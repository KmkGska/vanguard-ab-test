{
 "cells": [
  {
   "cell_type": "code",
   "execution_count": 1,
   "id": "fa153c9e",
   "metadata": {},
   "outputs": [],
   "source": [
    "# 1.  Data Cleaning.\n",
    "# 1.1 Import Libraries we could need / Notation for Pandas Setting / Load the 3 Datasets.\n",
    "\n",
    "    # Manipulating Data\n",
    "import pandas as pd\n",
    "import numpy as np\n",
    "\n",
    "    # Visualizing Data\n",
    "import matplotlib.pyplot as plt\n",
    "import seaborn as sns\n",
    "from matplotlib.dates import DateFormatter\n",
    "from matplotlib_venn import venn2\n",
    "\n",
    "    # Statistical Analysis\n",
    "from scipy.stats import (\n",
    "    ttest_ind,\n",
    "    chi2_contingency,\n",
    "    norm,\n",
    "    mannwhitneyu,\n",
    "    shapiro,\n",
    "    probplot\n",
    ")\n",
    "from statsmodels.stats.proportion import (\n",
    "    proportions_ztest,\n",
    "    proportions_chisquare\n",
    ")\n",
    "import statsmodels.api as sm\n",
    "\n",
    "import sys\n",
    "sys.path.append(\"../src\")\n",
    "\n",
    "pd.set_option('display.float_format', '{:.2f}'.format)"
   ]
  },
  {
   "cell_type": "code",
   "execution_count": 2,
   "id": "947b9896",
   "metadata": {},
   "outputs": [
    {
     "name": "stdout",
     "output_type": "stream",
     "text": [
      "Shape: 70609 rows × 9 columns\n",
      "Head:\n",
      "   client_id  clnt_tenure_yr  clnt_tenure_mnth  clnt_age gendr  num_accts  \\\n",
      "0     836976            6.00             73.00     60.50     U       2.00   \n",
      "1    2304905            7.00             94.00     58.00     U       2.00   \n",
      "2    1439522            5.00             64.00     32.00     U       2.00   \n",
      "\n",
      "        bal  calls_6_mnth  logons_6_mnth  \n",
      "0  45105.30          6.00           9.00  \n",
      "1 110860.30          6.00           9.00  \n",
      "2  52467.79          6.00           9.00  \n",
      "Info:\n",
      "<class 'pandas.core.frame.DataFrame'>\n",
      "RangeIndex: 70609 entries, 0 to 70608\n",
      "Data columns (total 9 columns):\n",
      " #   Column            Non-Null Count  Dtype  \n",
      "---  ------            --------------  -----  \n",
      " 0   client_id         70609 non-null  int64  \n",
      " 1   clnt_tenure_yr    70595 non-null  float64\n",
      " 2   clnt_tenure_mnth  70595 non-null  float64\n",
      " 3   clnt_age          70594 non-null  float64\n",
      " 4   gendr             70595 non-null  object \n",
      " 5   num_accts         70595 non-null  float64\n",
      " 6   bal               70595 non-null  float64\n",
      " 7   calls_6_mnth      70595 non-null  float64\n",
      " 8   logons_6_mnth     70595 non-null  float64\n",
      "dtypes: float64(7), int64(1), object(1)\n",
      "memory usage: 4.8+ MB\n"
     ]
    },
    {
     "data": {
      "text/plain": [
       "{None}"
      ]
     },
     "execution_count": 2,
     "metadata": {},
     "output_type": "execute_result"
    }
   ],
   "source": [
    "# 1.2 df_clients cleaning\n",
    "    # Load the dataset\n",
    "df_final_demo = pd.read_csv('../data/raw_data_txt/df_final_demo.txt', sep=',')\n",
    "    # Cleaning / Fix: Shape, Head, Info and Dtype of df_final_demo (Client Profile). \n",
    "print(f\"Shape: {df_final_demo.shape[0]} rows × {df_final_demo.shape[1]} columns\\nHead:\\n{df_final_demo.head(3)}\")\n",
    "print(\"Info:\") \n",
    "{df_final_demo.info()}"
   ]
  },
  {
   "cell_type": "code",
   "execution_count": 3,
   "id": "f5753e27",
   "metadata": {},
   "outputs": [],
   "source": [
    "    # The names are not descriptive enough, this violates clean code practices, so lets change w/ dictionary.\n",
    "df_final_demo.rename(\n",
    "    columns={\n",
    "        'clnt_tenure_yr': 'client_tenure_years',\n",
    "        'clnt_tenure_mnth':'client_tenure_months',\n",
    "        \"clnt_age\": \"age\",\n",
    "        \"gendr\": \"gender\",\n",
    "        \"num_accts\": \"number_of_accounts\",\n",
    "        \"bal\": \"balance\",\n",
    "        'calls_6_mnth': 'calls_6_months',\n",
    "        'logons_6_mnth' : 'logons_6_months',\n",
    "    },\n",
    "    inplace=True)\n",
    "\n",
    "    # client_id should be an string as we won't be doing calculations with it.\n",
    "df_final_demo['client_id'] = df_final_demo['client_id'].astype(str)"
   ]
  },
  {
   "cell_type": "code",
   "execution_count": 4,
   "id": "61b88dd9",
   "metadata": {},
   "outputs": [
    {
     "name": "stdout",
     "output_type": "stream",
     "text": [
      "\n",
      ".) Numerical Columns: ['client_tenure_years', 'client_tenure_months', 'age', 'number_of_accounts', 'balance', 'calls_6_months', 'logons_6_months']\n",
      "\n",
      ".) Nulls for Numerical Columns:\n",
      "client_tenure_years     14\n",
      "client_tenure_months    14\n",
      "age                     15\n",
      "number_of_accounts      14\n",
      "balance                 14\n",
      "calls_6_months          14\n",
      "logons_6_months         14\n",
      "dtype: int64\n",
      "\n",
      ".) Duplicate rows for Numerical: 16 \n",
      "\n",
      ".) Uniques For Numerical Columns:\n",
      "balance                 70328\n",
      "client_tenure_months      482\n",
      "age                       165\n",
      "client_tenure_years        54\n",
      "logons_6_months             9\n",
      "number_of_accounts          8\n",
      "calls_6_months              8\n",
      "dtype: int64\n",
      "\n",
      ".] Categorical Columns: ['client_id', 'gender']\n",
      "\n",
      ".] Nulls for Categorical Columns:\n",
      "client_id     0\n",
      "gender       14\n",
      "dtype: int64\n",
      "\n",
      ".] Duplicate rows for Categorical: 0\n",
      "\n",
      ".] Uniques For Categorical Columns:\n",
      "client_id    70609\n",
      "gender           4\n",
      "dtype: int64\n"
     ]
    }
   ],
   "source": [
    "    # Check for Nulls, Uniques and Duplicates in numerical and categorical columns.\n",
    "print(f\"\\n.) Numerical Columns: {df_final_demo.select_dtypes(include=['number']).columns.tolist()}\\n\\n.) Nulls for Numerical Columns:\\n{df_final_demo.select_dtypes(include=['number']).isnull().sum()}\\n\\n.) Duplicate rows for Numerical: {df_final_demo.select_dtypes(include=['number']).duplicated().sum()} \\n\\n.) Uniques For Numerical Columns:\\n{df_final_demo.select_dtypes(include=['number']).nunique().sort_values(ascending=False)}\\n\\n.] Categorical Columns: {df_final_demo.select_dtypes(include=['object']).columns.tolist()}\\n\\n.] Nulls for Categorical Columns:\\n{df_final_demo.select_dtypes(include=['object']).isnull().sum()}\\n\\n.] Duplicate rows for Categorical: {df_final_demo.select_dtypes(include=['object']).duplicated().sum()}\\n\\n.] Uniques For Categorical Columns:\\n{df_final_demo.select_dtypes(include=['object']).nunique().sort_values(ascending=False)}\")"
   ]
  },
  {
   "cell_type": "code",
   "execution_count": 5,
   "id": "66b05da7",
   "metadata": {},
   "outputs": [],
   "source": [
    "    # Replace numerical NaNs with median.\n",
    "df_final_demo[df_final_demo.select_dtypes(include='number').columns] = df_final_demo.select_dtypes(include='number').fillna(df_final_demo.median(numeric_only=True)) "
   ]
  },
  {
   "cell_type": "code",
   "execution_count": 6,
   "id": "20819f58",
   "metadata": {},
   "outputs": [
    {
     "data": {
      "text/plain": [
       "gender\n",
       "U      24122\n",
       "M      23724\n",
       "F      22746\n",
       "NaN       14\n",
       "X          3\n",
       "Name: count, dtype: int64"
      ]
     },
     "execution_count": 6,
     "metadata": {},
     "output_type": "execute_result"
    }
   ],
   "source": [
    "    # For categoricals, gender we have 14 Nan and 4 unique values: U, M, F, X. \n",
    "df_final_demo['gender'].value_counts(dropna=False)"
   ]
  },
  {
   "cell_type": "code",
   "execution_count": 7,
   "id": "559e9ded",
   "metadata": {},
   "outputs": [],
   "source": [
    "    # Replace categorical NaNs with mode (U).\n",
    "df_final_demo['gender'] = df_final_demo['gender'].fillna(df_final_demo['gender'].mode()[0])\n",
    "    # Normalize X to U.\n",
    "df_final_demo['gender'] = df_final_demo['gender'].replace('X', 'U')"
   ]
  },
  {
   "cell_type": "code",
   "execution_count": 8,
   "id": "53e56f03",
   "metadata": {},
   "outputs": [],
   "source": [
    "    # Age and balance are ok to be floats, but the rest should be integers.\n",
    "df_final_demo = df_final_demo.astype({\n",
    "    'client_tenure_years': 'int64',\n",
    "    'client_tenure_months': 'int64',\n",
    "    'number_of_accounts': 'int64',\n",
    "    'calls_6_months': 'int64',\n",
    "    'logons_6_months': 'int64'\n",
    "})"
   ]
  },
  {
   "cell_type": "code",
   "execution_count": 9,
   "id": "c7b789b3",
   "metadata": {},
   "outputs": [],
   "source": [
    "    # Get df_clients clean.\n",
    "df_clients = df_final_demo"
   ]
  },
  {
   "cell_type": "code",
   "execution_count": 10,
   "id": "134763e8",
   "metadata": {},
   "outputs": [
    {
     "name": "stdout",
     "output_type": "stream",
     "text": [
      "Shape: 70609 rows × 9 columns\n",
      "Head:\n",
      "  client_id  client_tenure_years  client_tenure_months   age gender  \\\n",
      "0    836976                    6                    73 60.50      U   \n",
      "1   2304905                    7                    94 58.00      U   \n",
      "2   1439522                    5                    64 32.00      U   \n",
      "\n",
      "   number_of_accounts   balance  calls_6_months  logons_6_months  \n",
      "0                   2  45105.30               6                9  \n",
      "1                   2 110860.30               6                9  \n",
      "2                   2  52467.79               6                9  \n",
      "Info:\n",
      "<class 'pandas.core.frame.DataFrame'>\n",
      "RangeIndex: 70609 entries, 0 to 70608\n",
      "Data columns (total 9 columns):\n",
      " #   Column                Non-Null Count  Dtype  \n",
      "---  ------                --------------  -----  \n",
      " 0   client_id             70609 non-null  object \n",
      " 1   client_tenure_years   70609 non-null  int64  \n",
      " 2   client_tenure_months  70609 non-null  int64  \n",
      " 3   age                   70609 non-null  float64\n",
      " 4   gender                70609 non-null  object \n",
      " 5   number_of_accounts    70609 non-null  int64  \n",
      " 6   balance               70609 non-null  float64\n",
      " 7   calls_6_months        70609 non-null  int64  \n",
      " 8   logons_6_months       70609 non-null  int64  \n",
      "dtypes: float64(2), int64(5), object(2)\n",
      "memory usage: 4.8+ MB\n",
      "\n",
      ".) Numerical Columns: ['client_tenure_years', 'client_tenure_months', 'age', 'number_of_accounts', 'balance', 'calls_6_months', 'logons_6_months']\n",
      "\n",
      ".) Nulls for Numerical Columns:\n",
      "client_tenure_years     0\n",
      "client_tenure_months    0\n",
      "age                     0\n",
      "number_of_accounts      0\n",
      "balance                 0\n",
      "calls_6_months          0\n",
      "logons_6_months         0\n",
      "dtype: int64\n",
      "\n",
      ".) Duplicate rows for Numerical: 16 \n",
      "\n",
      ".) Uniques For Numerical Columns:\n",
      "balance                 70328\n",
      "client_tenure_months      482\n",
      "age                       165\n",
      "client_tenure_years        54\n",
      "logons_6_months             9\n",
      "number_of_accounts          8\n",
      "calls_6_months              8\n",
      "dtype: int64\n",
      "\n",
      ".] Categorical Columns: ['client_id', 'gender']\n",
      "\n",
      ".] Nulls for Categorical Columns:\n",
      "client_id    0\n",
      "gender       0\n",
      "dtype: int64\n",
      "\n",
      ".] Duplicate rows for Categorical: 0\n",
      "\n",
      ".] Uniques For Categorical Columns:\n",
      "client_id    70609\n",
      "gender           3\n",
      "dtype: int64\n"
     ]
    }
   ],
   "source": [
    "    # Final check.\n",
    "print(f\"Shape: {df_clients.shape[0]} rows × {df_clients.shape[1]} columns\\nHead:\\n{df_clients.head(3)}\")\n",
    "print(\"Info:\") \n",
    "{df_clients.info()}\n",
    "print(f\"\\n.) Numerical Columns: {df_clients.select_dtypes(include=['number']).columns.tolist()}\\n\\n.) Nulls for Numerical Columns:\\n{df_clients.select_dtypes(include=['number']).isnull().sum()}\\n\\n.) Duplicate rows for Numerical: {df_clients.select_dtypes(include=['number']).duplicated().sum()} \\n\\n.) Uniques For Numerical Columns:\\n{df_clients.select_dtypes(include=['number']).nunique().sort_values(ascending=False)}\\n\\n.] Categorical Columns: {df_clients.select_dtypes(include=['object']).columns.tolist()}\\n\\n.] Nulls for Categorical Columns:\\n{df_clients.select_dtypes(include=['object']).isnull().sum()}\\n\\n.] Duplicate rows for Categorical: {df_clients.select_dtypes(include=['object']).duplicated().sum()}\\n\\n.] Uniques For Categorical Columns:\\n{df_clients.select_dtypes(include=['object']).nunique().sort_values(ascending=False)}\")"
   ]
  },
  {
   "cell_type": "code",
   "execution_count": 11,
   "id": "b978c22f",
   "metadata": {},
   "outputs": [
    {
     "data": {
      "text/html": [
       "<div>\n",
       "<style scoped>\n",
       "    .dataframe tbody tr th:only-of-type {\n",
       "        vertical-align: middle;\n",
       "    }\n",
       "\n",
       "    .dataframe tbody tr th {\n",
       "        vertical-align: top;\n",
       "    }\n",
       "\n",
       "    .dataframe thead th {\n",
       "        text-align: right;\n",
       "    }\n",
       "</style>\n",
       "<table border=\"1\" class=\"dataframe\">\n",
       "  <thead>\n",
       "    <tr style=\"text-align: right;\">\n",
       "      <th></th>\n",
       "      <th>client_tenure_years</th>\n",
       "      <th>client_tenure_months</th>\n",
       "      <th>age</th>\n",
       "      <th>number_of_accounts</th>\n",
       "      <th>balance</th>\n",
       "      <th>calls_6_months</th>\n",
       "      <th>logons_6_months</th>\n",
       "    </tr>\n",
       "  </thead>\n",
       "  <tbody>\n",
       "    <tr>\n",
       "      <th>count</th>\n",
       "      <td>70609.00</td>\n",
       "      <td>70609.00</td>\n",
       "      <td>70609.00</td>\n",
       "      <td>70609.00</td>\n",
       "      <td>70609.00</td>\n",
       "      <td>70609.00</td>\n",
       "      <td>70609.00</td>\n",
       "    </tr>\n",
       "    <tr>\n",
       "      <th>mean</th>\n",
       "      <td>12.05</td>\n",
       "      <td>150.66</td>\n",
       "      <td>46.44</td>\n",
       "      <td>2.26</td>\n",
       "      <td>147428.56</td>\n",
       "      <td>3.38</td>\n",
       "      <td>5.57</td>\n",
       "    </tr>\n",
       "    <tr>\n",
       "      <th>std</th>\n",
       "      <td>6.87</td>\n",
       "      <td>82.08</td>\n",
       "      <td>15.59</td>\n",
       "      <td>0.53</td>\n",
       "      <td>301481.14</td>\n",
       "      <td>2.24</td>\n",
       "      <td>2.35</td>\n",
       "    </tr>\n",
       "    <tr>\n",
       "      <th>min</th>\n",
       "      <td>2.00</td>\n",
       "      <td>33.00</td>\n",
       "      <td>13.50</td>\n",
       "      <td>1.00</td>\n",
       "      <td>13789.42</td>\n",
       "      <td>0.00</td>\n",
       "      <td>1.00</td>\n",
       "    </tr>\n",
       "    <tr>\n",
       "      <th>25%</th>\n",
       "      <td>6.00</td>\n",
       "      <td>82.00</td>\n",
       "      <td>32.50</td>\n",
       "      <td>2.00</td>\n",
       "      <td>37350.12</td>\n",
       "      <td>1.00</td>\n",
       "      <td>4.00</td>\n",
       "    </tr>\n",
       "    <tr>\n",
       "      <th>50%</th>\n",
       "      <td>11.00</td>\n",
       "      <td>136.00</td>\n",
       "      <td>47.00</td>\n",
       "      <td>2.00</td>\n",
       "      <td>63332.90</td>\n",
       "      <td>3.00</td>\n",
       "      <td>5.00</td>\n",
       "    </tr>\n",
       "    <tr>\n",
       "      <th>75%</th>\n",
       "      <td>16.00</td>\n",
       "      <td>192.00</td>\n",
       "      <td>59.00</td>\n",
       "      <td>2.00</td>\n",
       "      <td>137521.72</td>\n",
       "      <td>6.00</td>\n",
       "      <td>7.00</td>\n",
       "    </tr>\n",
       "    <tr>\n",
       "      <th>max</th>\n",
       "      <td>62.00</td>\n",
       "      <td>749.00</td>\n",
       "      <td>96.00</td>\n",
       "      <td>8.00</td>\n",
       "      <td>16320040.15</td>\n",
       "      <td>7.00</td>\n",
       "      <td>9.00</td>\n",
       "    </tr>\n",
       "  </tbody>\n",
       "</table>\n",
       "</div>"
      ],
      "text/plain": [
       "       client_tenure_years  client_tenure_months      age  number_of_accounts  \\\n",
       "count             70609.00              70609.00 70609.00            70609.00   \n",
       "mean                 12.05                150.66    46.44                2.26   \n",
       "std                   6.87                 82.08    15.59                0.53   \n",
       "min                   2.00                 33.00    13.50                1.00   \n",
       "25%                   6.00                 82.00    32.50                2.00   \n",
       "50%                  11.00                136.00    47.00                2.00   \n",
       "75%                  16.00                192.00    59.00                2.00   \n",
       "max                  62.00                749.00    96.00                8.00   \n",
       "\n",
       "          balance  calls_6_months  logons_6_months  \n",
       "count    70609.00        70609.00         70609.00  \n",
       "mean    147428.56            3.38             5.57  \n",
       "std     301481.14            2.24             2.35  \n",
       "min      13789.42            0.00             1.00  \n",
       "25%      37350.12            1.00             4.00  \n",
       "50%      63332.90            3.00             5.00  \n",
       "75%     137521.72            6.00             7.00  \n",
       "max   16320040.15            7.00             9.00  "
      ]
     },
     "execution_count": 11,
     "metadata": {},
     "output_type": "execute_result"
    }
   ],
   "source": [
    "    # Describe for Numerical Columns.\n",
    "df_clients.describe()"
   ]
  },
  {
   "cell_type": "markdown",
   "id": "323dad16",
   "metadata": {},
   "source": [
    "<style>\n",
    ".markdown-text {\n",
    "  font-family: 'Your Font', monospace;\n",
    "  color: black;\n",
    "}\n",
    "</style>\n",
    "\n",
    "<div class=\"markdown-text\">\n",
    "  The average client has 12 years at vanguard, 46 yrs old, have 2 accounts with 147.428,00 usd is the average balance. This cleaned df_clients dataset is need it for demographics questions of Day 1 wrap.\n",
    "</div>"
   ]
  },
  {
   "cell_type": "code",
   "execution_count": 12,
   "id": "76bc564e",
   "metadata": {},
   "outputs": [
    {
     "name": "stdout",
     "output_type": "stream",
     "text": [
      "<class 'pandas.core.frame.DataFrame'>\n",
      "RangeIndex: 70609 entries, 0 to 70608\n",
      "Data columns (total 9 columns):\n",
      " #   Column                Non-Null Count  Dtype  \n",
      "---  ------                --------------  -----  \n",
      " 0   client_id             70609 non-null  object \n",
      " 1   client_tenure_years   70609 non-null  int64  \n",
      " 2   client_tenure_months  70609 non-null  int64  \n",
      " 3   age                   70609 non-null  float64\n",
      " 4   gender                70609 non-null  object \n",
      " 5   number_of_accounts    70609 non-null  int64  \n",
      " 6   balance               70609 non-null  float64\n",
      " 7   calls_6_months        70609 non-null  int64  \n",
      " 8   logons_6_months       70609 non-null  int64  \n",
      "dtypes: float64(2), int64(5), object(2)\n",
      "memory usage: 4.8+ MB\n"
     ]
    }
   ],
   "source": [
    "# Save df_clients as pkl file for preserve all the cleaning process (more Mb of space in the repo) or do a function so it can call final_demo_txt and clean like this. \n",
    "# function name in src folder is function_df_clients_load.py your call it like this:\n",
    "import sys\n",
    "sys.path.append(\"../src\")\n",
    "from function_df_clients_load import load_and_clean_df_clients\n",
    "df_clients = load_and_clean_df_clients('../data/raw_data_txt/df_final_demo.txt')\n",
    "df_clients.info()"
   ]
  },
  {
   "cell_type": "code",
   "execution_count": 13,
   "id": "c7b78d63",
   "metadata": {},
   "outputs": [
    {
     "name": "stdout",
     "output_type": "stream",
     "text": [
      "Shape: 755405 rows × 5 columns\n",
      "Head:\n",
      "   client_id            visitor_id                      visit_id process_step  \\\n",
      "0    9988021  580560515_7732621733  781255054_21935453173_531117       step_3   \n",
      "1    9988021  580560515_7732621733  781255054_21935453173_531117       step_2   \n",
      "2    9988021  580560515_7732621733  781255054_21935453173_531117       step_3   \n",
      "\n",
      "             date_time  \n",
      "0  2017-04-17 15:27:07  \n",
      "1  2017-04-17 15:26:51  \n",
      "2  2017-04-17 15:19:22  \n",
      "Info:\n",
      "<class 'pandas.core.frame.DataFrame'>\n",
      "Index: 755405 entries, 0 to 412263\n",
      "Data columns (total 5 columns):\n",
      " #   Column        Non-Null Count   Dtype \n",
      "---  ------        --------------   ----- \n",
      " 0   client_id     755405 non-null  int64 \n",
      " 1   visitor_id    755405 non-null  object\n",
      " 2   visit_id      755405 non-null  object\n",
      " 3   process_step  755405 non-null  object\n",
      " 4   date_time     755405 non-null  object\n",
      "dtypes: int64(1), object(4)\n",
      "memory usage: 34.6+ MB\n"
     ]
    },
    {
     "data": {
      "text/plain": [
       "{None}"
      ]
     },
     "execution_count": 13,
     "metadata": {},
     "output_type": "execute_result"
    }
   ],
   "source": [
    "# 1.3 df_logs \n",
    "    # Load the dataset\n",
    "df_web_1 = pd.read_csv('../data/raw_data_txt/df_final_web_data_pt_1.txt', sep=',')\n",
    "df_web_2 = pd.read_csv('../data/raw_data_txt/df_final_web_data_pt_2.txt', sep=',')\n",
    "\n",
    "    # Merge Logs.\n",
    "df_logs = pd.concat([df_web_1, df_web_2])\n",
    "\n",
    "    # Cleaning / Fix: Shape, Head and Dtype of Web Data (Web Activity Logs)\n",
    "print(f\"Shape: {df_logs.shape[0]} rows × {df_logs.shape[1]} columns\\nHead:\\n{df_logs.head(3)}\")\n",
    "print(\"Info:\") \n",
    "{df_logs.info()}"
   ]
  },
  {
   "cell_type": "code",
   "execution_count": 14,
   "id": "b7cdfd87",
   "metadata": {},
   "outputs": [],
   "source": [
    "    # client_id should be an string as we won't be doing calculations with it. Columns name seems ok.\n",
    "df_logs.client_id = df_logs.client_id.astype(str)\n",
    "    # date_time should be a time object.\n",
    "df_logs.date_time = df_logs.date_time.astype('datetime64[ns]')"
   ]
  },
  {
   "cell_type": "code",
   "execution_count": 15,
   "id": "477cec92",
   "metadata": {},
   "outputs": [
    {
     "name": "stdout",
     "output_type": "stream",
     "text": [
      "client_id       0\n",
      "visitor_id      0\n",
      "visit_id        0\n",
      "process_step    0\n",
      "date_time       0\n",
      "dtype: int64\n",
      "10764\n"
     ]
    }
   ],
   "source": [
    "    # Check for Nulls.\n",
    "print (df_logs.isnull().sum())\n",
    "    # Check for Duplicates Rows.\n",
    "print (df_logs.duplicated().sum())"
   ]
  },
  {
   "cell_type": "code",
   "execution_count": 16,
   "id": "9004d2b3",
   "metadata": {},
   "outputs": [],
   "source": [
    "    # Drop Duplicated rows, since are useless.\n",
    "df_logs = df_logs.drop_duplicates()"
   ]
  },
  {
   "cell_type": "code",
   "execution_count": 17,
   "id": "ae5d5b7d",
   "metadata": {},
   "outputs": [
    {
     "data": {
      "text/plain": [
       "120157"
      ]
     },
     "execution_count": 17,
     "metadata": {},
     "output_type": "execute_result"
    }
   ],
   "source": [
    "    # Check for unique client_ids.\n",
    "df_logs.client_id.nunique()"
   ]
  },
  {
   "cell_type": "markdown",
   "id": "3821466e",
   "metadata": {},
   "source": [
    "<style>\n",
    ".markdown-text {\n",
    "  font-family: 'Your Font', monospace;\n",
    "  color: black;\n",
    "}\n",
    "</style>\n",
    "\n",
    "<div class=\"markdown-text\">\n",
    "  So we cleaned df_clients and have the demographics for 70.609 unique clients, here are 120.157 so later we need to have just the rows common for this through client_id column. This is a log of all the traffic, visitors and clients both inside or outside the experiment.\n",
    "</div>"
   ]
  },
  {
   "cell_type": "code",
   "execution_count": 18,
   "id": "d3ce5060",
   "metadata": {},
   "outputs": [
    {
     "name": "stdout",
     "output_type": "stream",
     "text": [
      "<class 'pandas.core.frame.DataFrame'>\n",
      "Index: 744641 entries, 0 to 412263\n",
      "Data columns (total 5 columns):\n",
      " #   Column        Non-Null Count   Dtype         \n",
      "---  ------        --------------   -----         \n",
      " 0   client_id     744641 non-null  object        \n",
      " 1   visitor_id    744641 non-null  object        \n",
      " 2   visit_id      744641 non-null  object        \n",
      " 3   process_step  744641 non-null  object        \n",
      " 4   date_time     744641 non-null  datetime64[ns]\n",
      "dtypes: datetime64[ns](1), object(4)\n",
      "memory usage: 34.1+ MB\n"
     ]
    }
   ],
   "source": [
    "    # Create a funtion too for this.\n",
    "import sys\n",
    "sys.path.append(\"../src\")\n",
    "from function_df_logs_load import clean_df_logs\n",
    "df_web_1 = pd.read_csv('../data/raw_data_txt/df_final_web_data_pt_1.txt', sep=',')\n",
    "df_web_2 = pd.read_csv('../data/raw_data_txt/df_final_web_data_pt_2.txt', sep=',')\n",
    "\n",
    "df_logs = clean_df_logs(pd.concat([df_web_1, df_web_2]))\n",
    "df_logs.info()"
   ]
  },
  {
   "cell_type": "code",
   "execution_count": 19,
   "id": "0017828b",
   "metadata": {},
   "outputs": [
    {
     "data": {
      "text/html": [
       "<div>\n",
       "<style scoped>\n",
       "    .dataframe tbody tr th:only-of-type {\n",
       "        vertical-align: middle;\n",
       "    }\n",
       "\n",
       "    .dataframe tbody tr th {\n",
       "        vertical-align: top;\n",
       "    }\n",
       "\n",
       "    .dataframe thead th {\n",
       "        text-align: right;\n",
       "    }\n",
       "</style>\n",
       "<table border=\"1\" class=\"dataframe\">\n",
       "  <thead>\n",
       "    <tr style=\"text-align: right;\">\n",
       "      <th></th>\n",
       "      <th>client_id</th>\n",
       "      <th>visitor_id</th>\n",
       "      <th>visit_id</th>\n",
       "      <th>process_step</th>\n",
       "      <th>date_time</th>\n",
       "    </tr>\n",
       "  </thead>\n",
       "  <tbody>\n",
       "    <tr>\n",
       "      <th>243230</th>\n",
       "      <td>1316243</td>\n",
       "      <td>509332228_4735676248</td>\n",
       "      <td>801100403_13405187279_544354</td>\n",
       "      <td>start</td>\n",
       "      <td>2017-04-14 15:40:38</td>\n",
       "    </tr>\n",
       "    <tr>\n",
       "      <th>243229</th>\n",
       "      <td>1316243</td>\n",
       "      <td>509332228_4735676248</td>\n",
       "      <td>801100403_13405187279_544354</td>\n",
       "      <td>step_1</td>\n",
       "      <td>2017-04-14 15:40:58</td>\n",
       "    </tr>\n",
       "    <tr>\n",
       "      <th>243228</th>\n",
       "      <td>1316243</td>\n",
       "      <td>509332228_4735676248</td>\n",
       "      <td>801100403_13405187279_544354</td>\n",
       "      <td>step_2</td>\n",
       "      <td>2017-04-14 15:41:24</td>\n",
       "    </tr>\n",
       "    <tr>\n",
       "      <th>243227</th>\n",
       "      <td>1316243</td>\n",
       "      <td>509332228_4735676248</td>\n",
       "      <td>801100403_13405187279_544354</td>\n",
       "      <td>step_3</td>\n",
       "      <td>2017-04-14 15:42:52</td>\n",
       "    </tr>\n",
       "    <tr>\n",
       "      <th>243226</th>\n",
       "      <td>1316243</td>\n",
       "      <td>509332228_4735676248</td>\n",
       "      <td>801100403_13405187279_544354</td>\n",
       "      <td>confirm</td>\n",
       "      <td>2017-04-14 15:43:18</td>\n",
       "    </tr>\n",
       "    <tr>\n",
       "      <th>243225</th>\n",
       "      <td>1316243</td>\n",
       "      <td>509332228_4735676248</td>\n",
       "      <td>801100403_13405187279_544354</td>\n",
       "      <td>confirm</td>\n",
       "      <td>2017-04-14 15:45:02</td>\n",
       "    </tr>\n",
       "    <tr>\n",
       "      <th>39481</th>\n",
       "      <td>2612987</td>\n",
       "      <td>906038500_16156403983</td>\n",
       "      <td>948223758_86221904809_849533</td>\n",
       "      <td>start</td>\n",
       "      <td>2017-04-20 14:50:38</td>\n",
       "    </tr>\n",
       "    <tr>\n",
       "      <th>39480</th>\n",
       "      <td>2612987</td>\n",
       "      <td>906038500_16156403983</td>\n",
       "      <td>948223758_86221904809_849533</td>\n",
       "      <td>step_1</td>\n",
       "      <td>2017-04-20 14:50:41</td>\n",
       "    </tr>\n",
       "    <tr>\n",
       "      <th>242883</th>\n",
       "      <td>2558274</td>\n",
       "      <td>671404795_66151551729</td>\n",
       "      <td>146511148_77319783835_607833</td>\n",
       "      <td>start</td>\n",
       "      <td>2017-05-25 13:02:57</td>\n",
       "    </tr>\n",
       "    <tr>\n",
       "      <th>242882</th>\n",
       "      <td>2558274</td>\n",
       "      <td>671404795_66151551729</td>\n",
       "      <td>146511148_77319783835_607833</td>\n",
       "      <td>step_1</td>\n",
       "      <td>2017-05-25 13:03:06</td>\n",
       "    </tr>\n",
       "    <tr>\n",
       "      <th>242881</th>\n",
       "      <td>2558274</td>\n",
       "      <td>671404795_66151551729</td>\n",
       "      <td>146511148_77319783835_607833</td>\n",
       "      <td>step_2</td>\n",
       "      <td>2017-05-25 13:03:18</td>\n",
       "    </tr>\n",
       "    <tr>\n",
       "      <th>242880</th>\n",
       "      <td>2558274</td>\n",
       "      <td>671404795_66151551729</td>\n",
       "      <td>146511148_77319783835_607833</td>\n",
       "      <td>step_3</td>\n",
       "      <td>2017-05-25 13:07:40</td>\n",
       "    </tr>\n",
       "    <tr>\n",
       "      <th>242879</th>\n",
       "      <td>2558274</td>\n",
       "      <td>671404795_66151551729</td>\n",
       "      <td>146511148_77319783835_607833</td>\n",
       "      <td>confirm</td>\n",
       "      <td>2017-05-25 13:08:25</td>\n",
       "    </tr>\n",
       "  </tbody>\n",
       "</table>\n",
       "</div>"
      ],
      "text/plain": [
       "       client_id             visitor_id                      visit_id  \\\n",
       "243230   1316243   509332228_4735676248  801100403_13405187279_544354   \n",
       "243229   1316243   509332228_4735676248  801100403_13405187279_544354   \n",
       "243228   1316243   509332228_4735676248  801100403_13405187279_544354   \n",
       "243227   1316243   509332228_4735676248  801100403_13405187279_544354   \n",
       "243226   1316243   509332228_4735676248  801100403_13405187279_544354   \n",
       "243225   1316243   509332228_4735676248  801100403_13405187279_544354   \n",
       "39481    2612987  906038500_16156403983  948223758_86221904809_849533   \n",
       "39480    2612987  906038500_16156403983  948223758_86221904809_849533   \n",
       "242883   2558274  671404795_66151551729  146511148_77319783835_607833   \n",
       "242882   2558274  671404795_66151551729  146511148_77319783835_607833   \n",
       "242881   2558274  671404795_66151551729  146511148_77319783835_607833   \n",
       "242880   2558274  671404795_66151551729  146511148_77319783835_607833   \n",
       "242879   2558274  671404795_66151551729  146511148_77319783835_607833   \n",
       "\n",
       "       process_step           date_time  \n",
       "243230        start 2017-04-14 15:40:38  \n",
       "243229       step_1 2017-04-14 15:40:58  \n",
       "243228       step_2 2017-04-14 15:41:24  \n",
       "243227       step_3 2017-04-14 15:42:52  \n",
       "243226      confirm 2017-04-14 15:43:18  \n",
       "243225      confirm 2017-04-14 15:45:02  \n",
       "39481         start 2017-04-20 14:50:38  \n",
       "39480        step_1 2017-04-20 14:50:41  \n",
       "242883        start 2017-05-25 13:02:57  \n",
       "242882       step_1 2017-05-25 13:03:06  \n",
       "242881       step_2 2017-05-25 13:03:18  \n",
       "242880       step_3 2017-05-25 13:07:40  \n",
       "242879      confirm 2017-05-25 13:08:25  "
      ]
     },
     "execution_count": 19,
     "metadata": {},
     "output_type": "execute_result"
    }
   ],
   "source": [
    "    # Pick 3 Random Clients with visit_id to understand de data.\n",
    "random_visit_ids = df_logs.visit_id.sample(3)\n",
    "experiment = df_logs[df_logs.visit_id.isin(random_visit_ids)].sort_values(by='date_time', ascending=True)\n",
    "experiment"
   ]
  },
  {
   "cell_type": "markdown",
   "id": "15a1b69a",
   "metadata": {},
   "source": [
    "<style>\n",
    ".markdown-text {\n",
    "  font-family: 'Your Font', monospace;\n",
    "  color: black;\n",
    "}\n",
    "</style>\n",
    "\n",
    "<div class=\"markdown-text\">\n",
    "  So we asume that client_id trigger the funnel step at the date_time, we treat this as:\n",
    "\n",
    "time between start and step_1 ==> entry latency or initial engagement time.\n",
    "\n",
    "time between step_1 and step_2 ==> step_1 time  \n",
    "\n",
    "time between step_2 and step_3 ==> step_2 time\n",
    "\n",
    "time between step_3 and confirm ==> step_3 time and dwell or time spent before final confirmation\n",
    "\n",
    "So the real time of step_3 is not possible to know, and is estimated as step_3 to confirm, since it should be some time of final engagement like happened in start to step_1. Confirm has no duration. \n",
    "</div>"
   ]
  },
  {
   "cell_type": "code",
   "execution_count": 20,
   "id": "31796535",
   "metadata": {},
   "outputs": [
    {
     "name": "stdout",
     "output_type": "stream",
     "text": [
      "Shape: 70609 rows × 2 columns\n",
      "Head:\n",
      "   client_id Variation\n",
      "0    9988021      Test\n",
      "1    8320017      Test\n",
      "2    4033851   Control\n",
      "Info:\n",
      "<class 'pandas.core.frame.DataFrame'>\n",
      "RangeIndex: 70609 entries, 0 to 70608\n",
      "Data columns (total 2 columns):\n",
      " #   Column     Non-Null Count  Dtype \n",
      "---  ------     --------------  ----- \n",
      " 0   client_id  70609 non-null  int64 \n",
      " 1   Variation  50500 non-null  object\n",
      "dtypes: int64(1), object(1)\n",
      "memory usage: 1.1+ MB\n"
     ]
    },
    {
     "data": {
      "text/plain": [
       "{None}"
      ]
     },
     "execution_count": 20,
     "metadata": {},
     "output_type": "execute_result"
    }
   ],
   "source": [
    "# 1.4 df_groups\n",
    "    # Load the data  \n",
    "df_groups = pd.read_csv('../data/raw_data_txt/df_final_experiment_clients.txt', sep=',')\n",
    "\n",
    "# Cleaning / Fix: Shape, Head and Dtype of Experiment (Test/Control Assignments).\n",
    "print(f\"Shape: {df_groups.shape[0]} rows × {df_groups.shape[1]} columns\\nHead:\\n{df_groups.head(3)}\")\n",
    "print(\"Info:\") \n",
    "{df_groups.info()}"
   ]
  },
  {
   "cell_type": "code",
   "execution_count": 21,
   "id": "c06bb67c",
   "metadata": {},
   "outputs": [],
   "source": [
    "    # Variation should be in lower case for consistency.\n",
    "df_groups.columns = df_groups.columns.map(str.lower)\n",
    "    # client_id should be an string as we won't be doing calculations with it.\n",
    "df_groups.client_id = df_groups.client_id.astype(str)"
   ]
  },
  {
   "cell_type": "code",
   "execution_count": 22,
   "id": "5106644a",
   "metadata": {},
   "outputs": [
    {
     "name": "stdout",
     "output_type": "stream",
     "text": [
      "client_id        0\n",
      "variation    20109\n",
      "dtype: int64\n",
      "0\n",
      "70609\n"
     ]
    }
   ],
   "source": [
    "    # Check for Nulls, Duplicates and Uniques\n",
    "print (df_groups.isnull().sum())\n",
    "print (df_groups.duplicated().sum())\n",
    "print (df_groups.client_id.nunique())"
   ]
  },
  {
   "cell_type": "code",
   "execution_count": 23,
   "id": "2b137fde",
   "metadata": {},
   "outputs": [
    {
     "name": "stdout",
     "output_type": "stream",
     "text": [
      "client_id    0\n",
      "variation    0\n",
      "dtype: int64\n"
     ]
    }
   ],
   "source": [
    "    # We have 20.109 clients that are not either test or control in the experiment, drop.\n",
    "df_groups = df_groups.dropna()\n",
    "    # Check for Nulls again\n",
    "print (df_groups.isnull().sum())"
   ]
  },
  {
   "cell_type": "code",
   "execution_count": 24,
   "id": "57615af5",
   "metadata": {},
   "outputs": [
    {
     "data": {
      "text/plain": [
       "50500"
      ]
     },
     "execution_count": 24,
     "metadata": {},
     "output_type": "execute_result"
    }
   ],
   "source": [
    "    # Uniques for client_id. with test or control.\n",
    "df_groups.client_id.nunique()"
   ]
  },
  {
   "cell_type": "code",
   "execution_count": 25,
   "id": "730115d6",
   "metadata": {},
   "outputs": [
    {
     "data": {
      "image/png": "[encoded data removed]",
      "text/plain": [
       "<Figure size 500x300 with 1 Axes>"
      ]
     },
     "metadata": {},
     "output_type": "display_data"
    }
   ],
   "source": [
    "# 1.5 Create df_full just with clients control and test in the experiment dates.\n",
    "    # First merging df_groups and df_clients, to get the unique clients with test or control and demographics.\n",
    "df_clients_full = pd.merge(df_groups, df_clients, how='left', on='client_id')\n",
    "    # Plot Venn diagram of this merge to check if they are the same, since venn 2 uses set not concat pandas logic.\n",
    "\n",
    "df_groups['client_id'] = df_final_demo['client_id'].astype(str).str.strip()\n",
    "df_clients['client_id'] = df_clients['client_id'].astype(str).str.strip()\n",
    "clients_in_groups = set(df_groups.client_id)\n",
    "clients_in_clients = set(df_clients.client_id)\n",
    "plt.figure(figsize=(5, 3))\n",
    "venn2([clients_in_groups, clients_in_clients], set_labels=('df_groups', 'df_clients'))\n",
    "plt.title('Venn Diagram Between Groups and Clients merge')\n",
    "plt.show()"
   ]
  },
  {
   "cell_type": "code",
   "execution_count": 26,
   "id": "869dbc43",
   "metadata": {},
   "outputs": [
    {
     "data": {
      "text/plain": [
       "50500"
      ]
     },
     "execution_count": 26,
     "metadata": {},
     "output_type": "execute_result"
    }
   ],
   "source": [
    "    # So according to venn diagram 0 clients in df_groups are not in df_clients. 20.109 clients only appear in df_clients but not in df_groups, since we drop the control and test there, and the common cliends_ids between the 2 are 50500 clients.\n",
    "    # Check for duplicates in merged dataset.\n",
    "df_clients_full.client_id.nunique()"
   ]
  },
  {
   "cell_type": "code",
   "execution_count": 27,
   "id": "287525be",
   "metadata": {},
   "outputs": [
    {
     "data": {
      "image/png": "[encoded data removed]",
      "text/plain": [
       "<Figure size 600x400 with 1 Axes>"
      ]
     },
     "metadata": {},
     "output_type": "display_data"
    }
   ],
   "source": [
    "# 1.5 Create df_full just with clients control and test in the experiment dates.\n",
    "    # Merge\n",
    "df_full = pd.merge(\n",
    "    df_logs,\n",
    "    df_clients_full,\n",
    "    on='client_id',\n",
    "    how='inner'\n",
    ")\n",
    "    # Venn\n",
    "df_clients_full['client_id'] = df_clients_full['client_id'].astype(str).str.strip()\n",
    "df_logs['client_id'] = df_logs['client_id'].astype(str).str.strip()\n",
    "\n",
    "# Create sets\n",
    "clients_in_full = set(df_clients_full['client_id'])\n",
    "clients_in_logs = set(df_logs['client_id'])\n",
    "\n",
    "# Plot Venn diagram\n",
    "plt.figure(figsize=(6, 4))\n",
    "venn = venn2([clients_in_full, clients_in_logs], set_labels=('df_clients_full', 'df_logs'))\n",
    "\n",
    "# Optional: highlight overlap\n",
    "venn.get_patch_by_id('11').set_color('red')\n",
    "venn.get_patch_by_id('11').set_alpha(0.5)\n",
    "\n",
    "plt.title('Client ID Overlap Between df_clients_full and df_logs')\n",
    "plt.show()\n"
   ]
  },
  {
   "cell_type": "code",
   "execution_count": 28,
   "id": "ea4b3936",
   "metadata": {},
   "outputs": [
    {
     "data": {
      "text/plain": [
       "50500"
      ]
     },
     "execution_count": 28,
     "metadata": {},
     "output_type": "execute_result"
    }
   ],
   "source": [
    "   # So according to venn diagram we have our 50.500 unique clients with control or test label with their full log history.69.657 clients only appear in df_logs but not in df_clients_full.\n",
    "    # Check for uniques in merged dataset.\n",
    "df_full.client_id.nunique()"
   ]
  },
  {
   "cell_type": "code",
   "execution_count": 29,
   "id": "0ee64605",
   "metadata": {},
   "outputs": [
    {
     "data": {
      "text/plain": [
       "(Timestamp('2017-03-15 00:19:28'), Timestamp('2017-06-20 23:57:06'))"
      ]
     },
     "execution_count": 29,
     "metadata": {},
     "output_type": "execute_result"
    }
   ],
   "source": [
    "    # Check for dates in merged dataset.\n",
    "df_full.date_time.min(), df_full.date_time.max()"
   ]
  },
  {
   "cell_type": "code",
   "execution_count": 30,
   "id": "929267f1",
   "metadata": {},
   "outputs": [
    {
     "data": {
      "text/plain": [
       "variation\n",
       "Control    23532\n",
       "Test       26968\n",
       "Name: client_id, dtype: int64"
      ]
     },
     "execution_count": 30,
     "metadata": {},
     "output_type": "execute_result"
    }
   ],
   "source": [
    "    # Dates are inside the experiment dates.\n",
    "    # Lets check if the size of samples are appropiatte, how many clients as control and test\n",
    "df_full.groupby('variation').client_id.nunique()"
   ]
  },
  {
   "cell_type": "code",
   "execution_count": 31,
   "id": "3a7c1cd6",
   "metadata": {},
   "outputs": [
    {
     "data": {
      "text/plain": [
       "Chi2ContingencyResult(statistic=0.0, pvalue=1.0, dof=0, expected_freq=array([[23532., 26968.]]))"
      ]
     },
     "execution_count": 31,
     "metadata": {},
     "output_type": "execute_result"
    }
   ],
   "source": [
    "    # Check for balance and fair of the samplings, and if the assigments were done randomly. Like 50/50 chance for any random client to be control or test.   \n",
    "\n",
    "chi2_contingency([[23532, 26968]])"
   ]
  },
  {
   "cell_type": "code",
   "execution_count": 34,
   "id": "a34f4a50",
   "metadata": {},
   "outputs": [
    {
     "name": "stdout",
     "output_type": "stream",
     "text": [
      "Gender balance p-value: 0.3857\n",
      "Age balance p-value: 0.0157\n",
      "Balance balance p-value: 0.4958\n"
     ]
    }
   ],
   "source": [
    "# Categorical: gender\n",
    "gender_table = pd.crosstab(df_clients_full['variation'], df_clients_full['gender'])\n",
    "gender_stat, gender_p, _, _ = chi2_contingency(gender_table)\n",
    "\n",
    "# Numeric: age\n",
    "control_age = df_clients_full[df_clients_full['variation'] == 'Control']['age']\n",
    "test_age = df_clients_full[df_clients_full['variation'] == 'Test']['age']\n",
    "age_stat, age_p = ttest_ind(control_age, test_age, equal_var=False)\n",
    "\n",
    "# Categorical: balance\n",
    "balance_table = pd.crosstab(df_clients_full['variation'], df_clients_full['balance'])\n",
    "balance_stat, balance_p, _, _ = chi2_contingency(balance_table)\n",
    "\n",
    "# Print results\n",
    "print(f\"Gender balance p-value: {gender_p:.4f}\")\n",
    "print(f\"Age balance p-value: {age_p:.4f}\")\n",
    "print(f\"Balance balance p-value: {balance_p:.4f}\")"
   ]
  },
  {
   "cell_type": "code",
   "execution_count": 35,
   "id": "b78d733a",
   "metadata": {},
   "outputs": [],
   "source": [
    "    # Seems ok and experimental groups are statistically fair and well-randomized . Now save df_full in pkl file \n",
    "df_full.to_pickle('../data/clean_data_txt/df_full.pkl')"
   ]
  }
 ],
 "metadata": {
  "kernelspec": {
   "display_name": "Python 3 (ipykernel)",
   "language": "python",
   "name": "python3"
  },
  "language_info": {
   "codemirror_mode": {
    "name": "ipython",
    "version": 3
   },
   "file_extension": ".py",
   "mimetype": "text/x-python",
   "name": "python",
   "nbconvert_exporter": "python",
   "pygments_lexer": "ipython3",
   "version": "3.13.7"
  }
 },
 "nbformat": 4,
 "nbformat_minor": 5
}
