{
 "cells": [
  {
   "cell_type": "code",
   "execution_count": null,
   "id": "0033adc4",
   "metadata": {},
   "outputs": [
    {
     "name": "stdout",
     "output_type": "stream",
     "text": [
      "Primary segments: {'primary_age_band': '50+', 'primary_gender': 'U', 'primary_tenure': 'new'}\n",
      "  Note: 'new' tenure = first start within 90 days\n",
      "Behavior metrics:\n",
      "  Clients: 119074\n",
      "  Retry rate (>1 visit): 0.231\n",
      "  Restart rate (>1 start): 0.453\n",
      "  Completion rate: 0.675\n",
      "  Mean completion time: 4462.6 min (std: 15116.8 min)\n",
      "Stepwise reach rates: {'start': 0.99, 'step_1': 0.874, 'step_2': 0.807, 'step_3': 0.758, 'confirm': 0.675}\n",
      "Client-level conversion by Variation: {'Control': 0.655, 'Test': 0.693}\n"
     ]
    }
   ],
   "source": [
    "# Day 1 Wrap\n",
    "import pandas as pd\n",
    "import sys \n",
    "sys.path.append(\"../src\")\n",
    "from function_wrap_day1 import day1_wrap\n",
    "df_full = pd.read_pickle('../data/clean_data_txt/df_full.pkl')\n",
    "\n",
    "day1_wrap(df_full)  \n",
    "\n",
    "# We compute client-level snapshot once and derive all answers from it, avoiding double-counting and repeating session.\n",
    "# We use client-level metrics (primary segments, retry/restart rates, completion rate, completion time) to answer “who” and “how they behave”\n",
    "# We’re including everyone who returns days—or even weeks—later to finish, so a handful of long gaps blow up the mean. • Because completion spans multiple sessions, the tail is heavy. The mean gets pulled way up by those late converters."
   ]
  }
 ],
 "metadata": {
  "kernelspec": {
   "display_name": "Python 3 (ipykernel)",
   "language": "python",
   "name": "python3"
  },
  "language_info": {
   "codemirror_mode": {
    "name": "ipython",
    "version": 3
   },
   "file_extension": ".py",
   "mimetype": "text/x-python",
   "name": "python",
   "nbconvert_exporter": "python",
   "pygments_lexer": "ipython3",
   "version": "3.13.7"
  }
 },
 "nbformat": 4,
 "nbformat_minor": 5
}
