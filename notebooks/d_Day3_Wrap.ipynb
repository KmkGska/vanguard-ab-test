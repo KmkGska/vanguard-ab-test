{
 "cells": [
  {
   "cell_type": "code",
   "execution_count": 2,
   "id": "0033adc4",
   "metadata": {},
   "outputs": [
    {
     "name": "stdout",
     "output_type": "stream",
     "text": [
      "KPIs — Completion / Restart / Error:\n",
      "  Control: compl=0.655, restart=0.431, error=0.417\n",
      "  Test: compl=0.693, restart=0.463, error=0.433\n",
      "\n",
      "Step reach rates (fraction of clients reaching each step):\n",
      "  Control: {'start': 0.994, 'step_1': 0.856, 'step_2': 0.792, 'step_3': 0.739, 'confirm': 0.655}\n",
      "  Test: {'start': 0.989, 'step_1': 0.9, 'step_2': 0.825, 'step_3': 0.774, 'confirm': 0.693}\n",
      "\n",
      "Mean times (per-step transitions and overall completion in minutes):\n",
      "  Control: {'start_to_step_1_mean_min': np.float64(2278.6), 'step_1_to_step_2_mean_min': np.float64(659.9), 'step_2_to_step_3_mean_min': np.float64(851.9), 'step_3_to_confirm_mean_min': np.float64(1413.6), 'completion_time_mean_min': np.float64(6324.3)}\n",
      "  Test: {'start_to_step_1_mean_min': np.float64(1202.0), 'step_1_to_step_2_mean_min': np.float64(872.0), 'step_2_to_step_3_mean_min': np.float64(753.3), 'step_3_to_confirm_mean_min': np.float64(1181.3), 'completion_time_mean_min': np.float64(5857.5)}\n",
      "\n",
      "Verdict: completion lift = 0.038 → Promising (validate with stats tests).\n"
     ]
    }
   ],
   "source": [
    "# Day 3 Wrap\n",
    "import pandas as pd\n",
    "import sys \n",
    "sys.path.append(\"../src\")\n",
    "from function_wrap_day3 import compare_designs\n",
    "\n",
    "df_full = pd.read_pickle('../data/clean_data_txt/df_full.pkl')\n",
    "results = compare_designs(df_full)  # day3_wrap kpi\n",
    "\n",
    "# Use client-level three KPIs to evaluate whether the new design outperforms the old: 1. completion rate (success), 2. time per step (fricction/difficulty), 3. error rate. (the UX quality)\n",
    "# Add two relevants: restart rate (retries) and step reach rate (coverage).\n",
    "\n",
    "# Error rate is inferred from out-of-order sequences and failed retries\n",
    "# Time per step uses first appearances to avoid inflation from loops"
   ]
  }
 ],
 "metadata": {
  "kernelspec": {
   "display_name": "Python 3 (ipykernel)",
   "language": "python",
   "name": "python3"
  },
  "language_info": {
   "codemirror_mode": {
    "name": "ipython",
    "version": 3
   },
   "file_extension": ".py",
   "mimetype": "text/x-python",
   "name": "python",
   "nbconvert_exporter": "python",
   "pygments_lexer": "ipython3",
   "version": "3.13.7"
  }
 },
 "nbformat": 4,
 "nbformat_minor": 5
}
