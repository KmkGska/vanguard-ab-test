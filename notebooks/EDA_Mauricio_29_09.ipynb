{
 "cells": [
  {
   "cell_type": "code",
   "execution_count": null,
   "id": "fa153c9e",
   "metadata": {},
   "outputs": [],
   "source": [
    "import pandas as pd\n",
    "import matplotlib.pyplot as plt\n",
    "import seaborn as sns\n",
    "import numpy as np\n",
    "\n",
    "# Load Datasets\n",
    "df_demo = pd.read_csv('df_final_demo.txt', sep=',')\n",
    "df_web_1 = pd.read_csv('df_final_web_data_pt_1.txt', sep=',')\n",
    "df_web_2 = pd.read_csv('df_final_web_data_pt_2.txt', sep=',')\n",
    "df_experiment = pd.read_csv('df_final_experiment_clients.txt', sep=',')\n",
    "# Merge\n",
    "df_web = pd.concat([df_web_1, df_web_2], ignore_index=True)"
   ]
  },
  {
   "cell_type": "code",
   "execution_count": 15,
   "id": "947b9896",
   "metadata": {},
   "outputs": [
    {
     "name": "stdout",
     "output_type": "stream",
     "text": [
      "Shape: (70609, 9), Head:\n",
      "   client_id  clnt_tenure_yr  clnt_tenure_mnth  clnt_age gendr  num_accts  \\\n",
      "0     836976             6.0              73.0      60.5     U        2.0   \n",
      "1    2304905             7.0              94.0      58.0     U        2.0   \n",
      "2    1439522             5.0              64.0      32.0     U        2.0   \n",
      "3    1562045            16.0             198.0      49.0     M        2.0   \n",
      "4    5126305            12.0             145.0      33.0     F        2.0   \n",
      "\n",
      "         bal  calls_6_mnth  logons_6_mnth  \n",
      "0   45105.30           6.0            9.0  \n",
      "1  110860.30           6.0            9.0  \n",
      "2   52467.79           6.0            9.0  \n",
      "3   67454.65           3.0            6.0  \n",
      "4  103671.75           0.0            3.0  , Data Types:\n",
      "client_id             int64\n",
      "clnt_tenure_yr      float64\n",
      "clnt_tenure_mnth    float64\n",
      "clnt_age            float64\n",
      "gendr                object\n",
      "num_accts           float64\n",
      "bal                 float64\n",
      "calls_6_mnth        float64\n",
      "logons_6_mnth       float64\n",
      "dtype: object\n"
     ]
    }
   ],
   "source": [
    "# EDA: Shape, Head and Dtype of demo (Client Info)\n",
    "print(f\"Shape: {df_demo.shape}, Head:\\n{df_demo.head()}, Data Types:\\n{df_demo.dtypes}\")"
   ]
  },
  {
   "cell_type": "code",
   "execution_count": null,
   "id": "49eb1c31",
   "metadata": {},
   "outputs": [
    {
     "name": "stdout",
     "output_type": "stream",
     "text": [
      "Shape: (755405, 5), Head:\n",
      "   client_id            visitor_id                      visit_id process_step  \\\n",
      "0    9988021  580560515_7732621733  781255054_21935453173_531117       step_3   \n",
      "1    9988021  580560515_7732621733  781255054_21935453173_531117       step_2   \n",
      "2    9988021  580560515_7732621733  781255054_21935453173_531117       step_3   \n",
      "3    9988021  580560515_7732621733  781255054_21935453173_531117       step_2   \n",
      "4    9988021  580560515_7732621733  781255054_21935453173_531117       step_3   \n",
      "\n",
      "             date_time  \n",
      "0  2017-04-17 15:27:07  \n",
      "1  2017-04-17 15:26:51  \n",
      "2  2017-04-17 15:19:22  \n",
      "3  2017-04-17 15:19:13  \n",
      "4  2017-04-17 15:18:04  , Data Types:\n",
      "client_id        int64\n",
      "visitor_id      object\n",
      "visit_id        object\n",
      "process_step    object\n",
      "date_time       object\n",
      "dtype: object\n"
     ]
    }
   ],
   "source": [
    "# EDA: Shape, Head and Dtype of Web Data (Behavior logs)\n",
    "print(f\"Shape: {df_web.shape}, Head:\\n{df_web.head()}, Data Types:\\n{df_web.dtypes}\")"
   ]
  },
  {
   "cell_type": "code",
   "execution_count": 17,
   "id": "700f4fd7",
   "metadata": {},
   "outputs": [
    {
     "name": "stdout",
     "output_type": "stream",
     "text": [
      "Shape: (70609, 2), Head:\n",
      "   client_id Variation\n",
      "0    9988021      Test\n",
      "1    8320017      Test\n",
      "2    4033851   Control\n",
      "3    1982004      Test\n",
      "4    9294070   Control, Data Types:\n",
      "client_id     int64\n",
      "Variation    object\n",
      "dtype: object\n"
     ]
    }
   ],
   "source": [
    "# EDA: Shape, Head and Dtype of Experiment (Group Assignments)\n",
    "print(f\"Shape: {df_experiment.shape}, Head:\\n{df_experiment.head()}, Data Types:\\n{df_experiment.dtypes}\")"
   ]
  }
 ],
 "metadata": {
  "kernelspec": {
   "display_name": "base",
   "language": "python",
   "name": "python3"
  },
  "language_info": {
   "codemirror_mode": {
    "name": "ipython",
    "version": 3
   },
   "file_extension": ".py",
   "mimetype": "text/x-python",
   "name": "python",
   "nbconvert_exporter": "python",
   "pygments_lexer": "ipython3",
   "version": "3.13.5"
  }
 },
 "nbformat": 4,
 "nbformat_minor": 5
}
