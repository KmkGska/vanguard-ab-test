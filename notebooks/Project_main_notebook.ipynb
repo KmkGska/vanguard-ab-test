{
 "cells": [
  {
   "cell_type": "code",
   "execution_count": 4,
   "id": "96df9837-01fc-410d-90fb-ebef33d2080b",
   "metadata": {},
   "outputs": [],
   "source": [
    "import numpy as np\n",
    "import pandas as pd\n",
    "import seaborn as sns\n",
    "import matplotlib.pyplot as plt\n",
    "\n",
    "import yaml\n",
    " \n",
    "try:\n",
    "    with open(\"../config.yaml\", \"r\") as file:\n",
    "        config = yaml.safe_load(file)\n",
    "except:\n",
    "    print(\"Yaml configuration file not found!\")\n",
    "\n",
    "\n",
    "df_demo = pd.read_csv(config['data']['raw']['demo'])\n",
    "df_clients = pd.read_csv(config['data']['raw']['clients'])\n",
    "df_web1 = pd.read_csv(config['data']['raw']['web1'])\n",
    "df_web2 = pd.read_csv(config['data']['raw']['web2'])"
   ]
  },
  {
   "cell_type": "code",
   "execution_count": null,
   "id": "81d4541c-be5d-42f7-a137-f4110843614e",
   "metadata": {},
   "outputs": [],
   "source": [
    "# df_demo.to_csv(config['data']['cleaned']['demo'], index=False, sep=\";\", encoding=\"utf-8\")"
   ]
  }
 ],
 "metadata": {
  "kernelspec": {
   "display_name": "Python [conda env:base] *",
   "language": "python",
   "name": "conda-base-py"
  },
  "language_info": {
   "codemirror_mode": {
    "name": "ipython",
    "version": 3
   },
   "file_extension": ".py",
   "mimetype": "text/x-python",
   "name": "python",
   "nbconvert_exporter": "python",
   "pygments_lexer": "ipython3",
   "version": "3.13.5"
  }
 },
 "nbformat": 4,
 "nbformat_minor": 5
}
