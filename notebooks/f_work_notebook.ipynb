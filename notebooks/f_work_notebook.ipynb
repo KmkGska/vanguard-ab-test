{
 "cells": [
  {
   "cell_type": "code",
   "execution_count": null,
   "id": "403df186",
   "metadata": {},
   "outputs": [
    {
     "name": "stdout",
     "output_type": "stream",
     "text": [
      "ALL sessions — ALL STEPS — 206823 rows (clients × steps)\n",
      "Step distribution: {'start': 49851, 'step_1': 44214, 'step_2': 40708, 'step_3': 38112, 'confirm': 33938}\n",
      "Variation split: {'Test': 112357, 'Control': 94466}\n",
      "Age Bands: {'50+': 95737, '30–50': 75438, '<30': 35588}\n",
      "Gender: {'U': 71663, 'M': 69669, 'F': 65488, 'X': 3}\n",
      "Balance Quartiles: {'Low': 51695, 'High': 51690, 'Highest': 51690, 'Medium': 51688}\n",
      "Logon flag: {'active': 206763, 'inactive': 60}\n",
      "Call flag: {'support-heavy': 143349, 'low-touch': 63474}\n",
      "\n",
      "Chi-square across ALL funnel steps:\n",
      "process_step  confirm  start  step_1  step_2  step_3\n",
      "Variation                                           \n",
      "Control         15326  23272   20029   18532   17307\n",
      "Test            18612  26579   24185   22176   20805\n",
      "Chi²=28.01, p=0.0000, dof=4\n"
     ]
    }
   ],
   "source": [
    "# Work Notebook For Segments in each Funnel Step or All\n",
    "import pandas as pd\n",
    "import sys \n",
    "sys.path.append(\"../src\")\n",
    "from function_segmentation import get_segment\n",
    "\n",
    "df_full = pd.read_pickle('../data/clean_data_txt/df_full.pkl')\n",
    "\n",
    "df = get_segment(df_full, \"All\") # Write \"All\" or \"Confirm\" or \"Start\" or \"Step_1\" or \"Step_2\" or \"Step_3\""
   ]
  }
 ],
 "metadata": {
  "kernelspec": {
   "display_name": "Python 3 (ipykernel)",
   "language": "python",
   "name": "python3"
  },
  "language_info": {
   "codemirror_mode": {
    "name": "ipython",
    "version": 3
   },
   "file_extension": ".py",
   "mimetype": "text/x-python",
   "name": "python",
   "nbconvert_exporter": "python",
   "pygments_lexer": "ipython3",
   "version": "3.13.7"
  }
 },
 "nbformat": 4,
 "nbformat_minor": 5
}
