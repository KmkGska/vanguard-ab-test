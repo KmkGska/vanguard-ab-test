{
 "cells": [
  {
   "cell_type": "code",
   "execution_count": 2,
   "id": "6ad4f541-e184-4cfe-a368-de9e090ad615",
   "metadata": {},
   "outputs": [],
   "source": [
    "import pandas as pd\n",
    "import matplotlib.pyplot as plt\n",
    "import seaborn as sns\n",
    "import numpy as np\n",
    "from pathlib import Path\n",
    "import yaml\n",
    "import scipy.stats as stats\n",
    "\n",
    "%matplotlib inline"
   ]
  },
  {
   "cell_type": "code",
   "execution_count": 3,
   "id": "743e366a-0858-42f2-8832-e347f6f78411",
   "metadata": {},
   "outputs": [],
   "source": [
    "try:\n",
    "    with open(\"../config.yaml\", \"r\") as file:\n",
    "        config = yaml.safe_load(file)\n",
    "except:\n",
    "    print(\"Configuration file not found!\")"
   ]
  },
  {
   "cell_type": "code",
   "execution_count": 4,
   "id": "16ad8760-98d3-4097-982f-ae13cf0abb4e",
   "metadata": {},
   "outputs": [],
   "source": [
    "# Load Datasets\n",
    "df_clients = pd.read_csv('../data/raw_data_txt/df_final_demo.txt', sep=',')\n",
    "df_web_1 = pd.read_csv('../data/raw_data_txt/df_final_web_data_pt_1.txt', sep=',')\n",
    "df_web_2 = pd.read_csv('../data/raw_data_txt/df_final_web_data_pt_2.txt', sep=',')\n",
    "df_groups = pd.read_csv('../data/raw_data_txt/df_final_experiment_clients.txt', sep=',')\n",
    "# Merge Logs\n",
    "df_logs = pd.concat([df_web_1, df_web_2], ignore_index=True)"
   ]
  },
  {
   "cell_type": "code",
   "execution_count": 5,
   "id": "9d6be0c4-cd00-4ce4-9f7b-16dd9e81514a",
   "metadata": {},
   "outputs": [
    {
     "data": {
      "text/html": [
       "<div>\n",
       "<style scoped>\n",
       "    .dataframe tbody tr th:only-of-type {\n",
       "        vertical-align: middle;\n",
       "    }\n",
       "\n",
       "    .dataframe tbody tr th {\n",
       "        vertical-align: top;\n",
       "    }\n",
       "\n",
       "    .dataframe thead th {\n",
       "        text-align: right;\n",
       "    }\n",
       "</style>\n",
       "<table border=\"1\" class=\"dataframe\">\n",
       "  <thead>\n",
       "    <tr style=\"text-align: right;\">\n",
       "      <th></th>\n",
       "      <th>client_id</th>\n",
       "      <th>visitor_id</th>\n",
       "      <th>visit_id</th>\n",
       "      <th>process_step</th>\n",
       "      <th>date_time</th>\n",
       "      <th>variation</th>\n",
       "      <th>client_tenure_years</th>\n",
       "      <th>client_tenure_months</th>\n",
       "      <th>age</th>\n",
       "      <th>gender</th>\n",
       "      <th>number_of_accounts</th>\n",
       "      <th>balance</th>\n",
       "      <th>calls_6_months</th>\n",
       "      <th>logons_6_months</th>\n",
       "    </tr>\n",
       "  </thead>\n",
       "  <tbody>\n",
       "    <tr>\n",
       "      <th>0</th>\n",
       "      <td>9988021</td>\n",
       "      <td>580560515_7732621733</td>\n",
       "      <td>781255054_21935453173_531117</td>\n",
       "      <td>step_3</td>\n",
       "      <td>2017-04-17 15:27:07</td>\n",
       "      <td>Test</td>\n",
       "      <td>5</td>\n",
       "      <td>64</td>\n",
       "      <td>79.0</td>\n",
       "      <td>U</td>\n",
       "      <td>2</td>\n",
       "      <td>189023.86</td>\n",
       "      <td>1</td>\n",
       "      <td>4</td>\n",
       "    </tr>\n",
       "    <tr>\n",
       "      <th>1</th>\n",
       "      <td>9988021</td>\n",
       "      <td>580560515_7732621733</td>\n",
       "      <td>781255054_21935453173_531117</td>\n",
       "      <td>step_2</td>\n",
       "      <td>2017-04-17 15:26:51</td>\n",
       "      <td>Test</td>\n",
       "      <td>5</td>\n",
       "      <td>64</td>\n",
       "      <td>79.0</td>\n",
       "      <td>U</td>\n",
       "      <td>2</td>\n",
       "      <td>189023.86</td>\n",
       "      <td>1</td>\n",
       "      <td>4</td>\n",
       "    </tr>\n",
       "    <tr>\n",
       "      <th>2</th>\n",
       "      <td>9988021</td>\n",
       "      <td>580560515_7732621733</td>\n",
       "      <td>781255054_21935453173_531117</td>\n",
       "      <td>step_3</td>\n",
       "      <td>2017-04-17 15:19:22</td>\n",
       "      <td>Test</td>\n",
       "      <td>5</td>\n",
       "      <td>64</td>\n",
       "      <td>79.0</td>\n",
       "      <td>U</td>\n",
       "      <td>2</td>\n",
       "      <td>189023.86</td>\n",
       "      <td>1</td>\n",
       "      <td>4</td>\n",
       "    </tr>\n",
       "    <tr>\n",
       "      <th>3</th>\n",
       "      <td>9988021</td>\n",
       "      <td>580560515_7732621733</td>\n",
       "      <td>781255054_21935453173_531117</td>\n",
       "      <td>step_2</td>\n",
       "      <td>2017-04-17 15:19:13</td>\n",
       "      <td>Test</td>\n",
       "      <td>5</td>\n",
       "      <td>64</td>\n",
       "      <td>79.0</td>\n",
       "      <td>U</td>\n",
       "      <td>2</td>\n",
       "      <td>189023.86</td>\n",
       "      <td>1</td>\n",
       "      <td>4</td>\n",
       "    </tr>\n",
       "    <tr>\n",
       "      <th>4</th>\n",
       "      <td>9988021</td>\n",
       "      <td>580560515_7732621733</td>\n",
       "      <td>781255054_21935453173_531117</td>\n",
       "      <td>step_3</td>\n",
       "      <td>2017-04-17 15:18:04</td>\n",
       "      <td>Test</td>\n",
       "      <td>5</td>\n",
       "      <td>64</td>\n",
       "      <td>79.0</td>\n",
       "      <td>U</td>\n",
       "      <td>2</td>\n",
       "      <td>189023.86</td>\n",
       "      <td>1</td>\n",
       "      <td>4</td>\n",
       "    </tr>\n",
       "    <tr>\n",
       "      <th>...</th>\n",
       "      <td>...</td>\n",
       "      <td>...</td>\n",
       "      <td>...</td>\n",
       "      <td>...</td>\n",
       "      <td>...</td>\n",
       "      <td>...</td>\n",
       "      <td>...</td>\n",
       "      <td>...</td>\n",
       "      <td>...</td>\n",
       "      <td>...</td>\n",
       "      <td>...</td>\n",
       "      <td>...</td>\n",
       "      <td>...</td>\n",
       "      <td>...</td>\n",
       "    </tr>\n",
       "    <tr>\n",
       "      <th>317230</th>\n",
       "      <td>1574008</td>\n",
       "      <td>117364417_77840596075</td>\n",
       "      <td>528720790_71583064618_169151</td>\n",
       "      <td>start</td>\n",
       "      <td>2017-05-06 23:43:27</td>\n",
       "      <td>Test</td>\n",
       "      <td>10</td>\n",
       "      <td>121</td>\n",
       "      <td>55.0</td>\n",
       "      <td>U</td>\n",
       "      <td>2</td>\n",
       "      <td>153238.83</td>\n",
       "      <td>3</td>\n",
       "      <td>6</td>\n",
       "    </tr>\n",
       "    <tr>\n",
       "      <th>317231</th>\n",
       "      <td>2908510</td>\n",
       "      <td>814969699_90652851448</td>\n",
       "      <td>562606085_36368381773_92090</td>\n",
       "      <td>start</td>\n",
       "      <td>2017-05-10 22:57:17</td>\n",
       "      <td>Control</td>\n",
       "      <td>21</td>\n",
       "      <td>252</td>\n",
       "      <td>34.0</td>\n",
       "      <td>M</td>\n",
       "      <td>3</td>\n",
       "      <td>141808.05</td>\n",
       "      <td>6</td>\n",
       "      <td>9</td>\n",
       "    </tr>\n",
       "    <tr>\n",
       "      <th>317232</th>\n",
       "      <td>2908510</td>\n",
       "      <td>814969699_90652851448</td>\n",
       "      <td>562606085_36368381773_92090</td>\n",
       "      <td>step_2</td>\n",
       "      <td>2017-05-10 22:56:31</td>\n",
       "      <td>Control</td>\n",
       "      <td>21</td>\n",
       "      <td>252</td>\n",
       "      <td>34.0</td>\n",
       "      <td>M</td>\n",
       "      <td>3</td>\n",
       "      <td>141808.05</td>\n",
       "      <td>6</td>\n",
       "      <td>9</td>\n",
       "    </tr>\n",
       "    <tr>\n",
       "      <th>317233</th>\n",
       "      <td>2908510</td>\n",
       "      <td>814969699_90652851448</td>\n",
       "      <td>562606085_36368381773_92090</td>\n",
       "      <td>step_1</td>\n",
       "      <td>2017-05-10 22:56:23</td>\n",
       "      <td>Control</td>\n",
       "      <td>21</td>\n",
       "      <td>252</td>\n",
       "      <td>34.0</td>\n",
       "      <td>M</td>\n",
       "      <td>3</td>\n",
       "      <td>141808.05</td>\n",
       "      <td>6</td>\n",
       "      <td>9</td>\n",
       "    </tr>\n",
       "    <tr>\n",
       "      <th>317234</th>\n",
       "      <td>2908510</td>\n",
       "      <td>814969699_90652851448</td>\n",
       "      <td>562606085_36368381773_92090</td>\n",
       "      <td>start</td>\n",
       "      <td>2017-05-10 22:56:20</td>\n",
       "      <td>Control</td>\n",
       "      <td>21</td>\n",
       "      <td>252</td>\n",
       "      <td>34.0</td>\n",
       "      <td>M</td>\n",
       "      <td>3</td>\n",
       "      <td>141808.05</td>\n",
       "      <td>6</td>\n",
       "      <td>9</td>\n",
       "    </tr>\n",
       "  </tbody>\n",
       "</table>\n",
       "<p>317235 rows × 14 columns</p>\n",
       "</div>"
      ],
      "text/plain": [
       "       client_id             visitor_id                      visit_id  \\\n",
       "0        9988021   580560515_7732621733  781255054_21935453173_531117   \n",
       "1        9988021   580560515_7732621733  781255054_21935453173_531117   \n",
       "2        9988021   580560515_7732621733  781255054_21935453173_531117   \n",
       "3        9988021   580560515_7732621733  781255054_21935453173_531117   \n",
       "4        9988021   580560515_7732621733  781255054_21935453173_531117   \n",
       "...          ...                    ...                           ...   \n",
       "317230   1574008  117364417_77840596075  528720790_71583064618_169151   \n",
       "317231   2908510  814969699_90652851448   562606085_36368381773_92090   \n",
       "317232   2908510  814969699_90652851448   562606085_36368381773_92090   \n",
       "317233   2908510  814969699_90652851448   562606085_36368381773_92090   \n",
       "317234   2908510  814969699_90652851448   562606085_36368381773_92090   \n",
       "\n",
       "       process_step           date_time variation  client_tenure_years  \\\n",
       "0            step_3 2017-04-17 15:27:07      Test                    5   \n",
       "1            step_2 2017-04-17 15:26:51      Test                    5   \n",
       "2            step_3 2017-04-17 15:19:22      Test                    5   \n",
       "3            step_2 2017-04-17 15:19:13      Test                    5   \n",
       "4            step_3 2017-04-17 15:18:04      Test                    5   \n",
       "...             ...                 ...       ...                  ...   \n",
       "317230        start 2017-05-06 23:43:27      Test                   10   \n",
       "317231        start 2017-05-10 22:57:17   Control                   21   \n",
       "317232       step_2 2017-05-10 22:56:31   Control                   21   \n",
       "317233       step_1 2017-05-10 22:56:23   Control                   21   \n",
       "317234        start 2017-05-10 22:56:20   Control                   21   \n",
       "\n",
       "        client_tenure_months   age gender  number_of_accounts    balance  \\\n",
       "0                         64  79.0      U                   2  189023.86   \n",
       "1                         64  79.0      U                   2  189023.86   \n",
       "2                         64  79.0      U                   2  189023.86   \n",
       "3                         64  79.0      U                   2  189023.86   \n",
       "4                         64  79.0      U                   2  189023.86   \n",
       "...                      ...   ...    ...                 ...        ...   \n",
       "317230                   121  55.0      U                   2  153238.83   \n",
       "317231                   252  34.0      M                   3  141808.05   \n",
       "317232                   252  34.0      M                   3  141808.05   \n",
       "317233                   252  34.0      M                   3  141808.05   \n",
       "317234                   252  34.0      M                   3  141808.05   \n",
       "\n",
       "        calls_6_months  logons_6_months  \n",
       "0                    1                4  \n",
       "1                    1                4  \n",
       "2                    1                4  \n",
       "3                    1                4  \n",
       "4                    1                4  \n",
       "...                ...              ...  \n",
       "317230               3                6  \n",
       "317231               6                9  \n",
       "317232               6                9  \n",
       "317233               6                9  \n",
       "317234               6                9  \n",
       "\n",
       "[317235 rows x 14 columns]"
      ]
     },
     "execution_count": 5,
     "metadata": {},
     "output_type": "execute_result"
    }
   ],
   "source": [
    "# Load the DataFrame from a pickle file\n",
    "df_full = pd.read_pickle(config['data']['clean']['df_full'])\n",
    "df_full"
   ]
  },
  {
   "cell_type": "markdown",
   "id": "1ebaccaf-4a5a-4d02-bdec-7adb87cddc7a",
   "metadata": {},
   "source": [
    "# Frequency of age range"
   ]
  },
  {
   "cell_type": "code",
   "execution_count": 7,
   "id": "c6b12c41-936c-454f-94bf-d7e91fda2a14",
   "metadata": {},
   "outputs": [
    {
     "data": {
      "text/plain": [
       "age\n",
       "58.5    4590\n",
       "62.5    4546\n",
       "59.5    4501\n",
       "57.5    4389\n",
       "52.5    4338\n",
       "        ... \n",
       "17.0      19\n",
       "89.5      17\n",
       "96.0      10\n",
       "95.5       6\n",
       "94.5       5\n",
       "Name: count, Length: 158, dtype: int64"
      ]
     },
     "execution_count": 7,
     "metadata": {},
     "output_type": "execute_result"
    }
   ],
   "source": [
    "#frequency of age that uses web the most\n",
    "frequency_age = df_full['age'].value_counts()\n",
    "frequency_age "
   ]
  },
  {
   "cell_type": "markdown",
   "id": "111bc3a8-6d24-49f8-91c6-c134ca516e7e",
   "metadata": {},
   "source": [
    "# Frequency of age and variation"
   ]
  },
  {
   "cell_type": "code",
   "execution_count": 8,
   "id": "4b20678e-ea29-44e5-86b6-5bca5d97dc33",
   "metadata": {},
   "outputs": [
    {
     "data": {
      "text/plain": [
       "variation\n",
       "Test       176699\n",
       "Control    140536\n",
       "Name: count, dtype: int64"
      ]
     },
     "execution_count": 8,
     "metadata": {},
     "output_type": "execute_result"
    }
   ],
   "source": [
    "variation_table = df_full['variation'].value_counts()\n",
    "variation_table"
   ]
  },
  {
   "cell_type": "code",
   "execution_count": 9,
   "id": "bf5b87ee-03b7-43e5-bfdd-64d6f1315820",
   "metadata": {},
   "outputs": [
    {
     "name": "stdout",
     "output_type": "stream",
     "text": [
      "age        17.0  17.5  18.0  18.5  19.0  19.5  20.0  20.5  21.0  21.5  ...  \\\n",
      "variation                                                              ...   \n",
      "Control      11   179   174   252   198   455   304   604   350   674  ...   \n",
      "Test          8   232   140   456   258   510   317   674   476  1003  ...   \n",
      "\n",
      "age        91.0  91.5  92.0  92.5  93.0  93.5  94.0  94.5  95.5  96.0  \n",
      "variation                                                              \n",
      "Control      17     6    24    18    12    32    11     0     0     4  \n",
      "Test         22    19    15    10    15     0    13     5     6     6  \n",
      "\n",
      "[2 rows x 158 columns]\n"
     ]
    }
   ],
   "source": [
    "# A frequency table for 'Variation' and 'clnt_age'\n",
    "Vari_age_table = pd.crosstab(index=df_full['variation'], columns=df_full['age'])\n",
    "\n",
    "# Display the frequency table\n",
    "print(Vari_age_table)\n"
   ]
  },
  {
   "cell_type": "code",
   "execution_count": 18,
   "id": "52a411af-f54b-48dd-b62e-8feac31dfbaa",
   "metadata": {},
   "outputs": [
    {
     "name": "stdout",
     "output_type": "stream",
     "text": [
      "Control Group:\n",
      "      age variation  count\n",
      "0    17.0   Control     11\n",
      "4    18.0   Control    174\n",
      "24   23.0   Control    788\n",
      "28   24.0   Control    964\n",
      "32   25.0   Control   1251\n",
      "36   26.0   Control   1050\n",
      "40   27.0   Control   1199\n",
      "44   28.0   Control   1299\n",
      "48   29.0   Control   1241\n",
      "76   36.0   Control   1133\n",
      "88   39.0   Control    953\n",
      "96   41.0   Control    968\n",
      "108  44.0   Control   1175\n",
      "120  47.0   Control   1223\n",
      "136  51.0   Control   1364\n",
      "208  69.0   Control    826\n",
      "232  75.0   Control    529\n",
      "254  80.5   Control    196\n",
      "260  82.0   Control    177\n",
      "272  85.0   Control     95\n",
      "276  86.0   Control     78\n",
      "284  88.0   Control    157\n",
      "299  92.0   Control     24\n",
      "301  92.5   Control     18\n",
      "305  93.5   Control     32\n",
      "\n",
      "Test Group:\n",
      "      age variation  count\n",
      "3    17.5      Test    232\n",
      "7    18.5      Test    456\n",
      "9    19.0      Test    258\n",
      "11   19.5      Test    510\n",
      "13   20.0      Test    317\n",
      "..    ...       ...    ...\n",
      "304  93.0      Test     15\n",
      "307  94.0      Test     13\n",
      "308  94.5      Test      5\n",
      "309  95.5      Test      6\n",
      "311  96.0      Test      6\n",
      "\n",
      "[133 rows x 3 columns]\n",
      "\n",
      "The top 3 ages of most frequent users of Vanguard in the control group are: [51.0, 28.0, 25.0]\n",
      "The top 3 ages of most frequent users of Vanguard in the test group are: [62.5, 59.5, 60.5]\n"
     ]
    }
   ],
   "source": [
    "\n",
    "\n",
    "# Group by 'age' and 'variation', then count occurrences\n",
    "most_frequent_variation = df_full.groupby(['age', 'variation']).size().reset_index(name='count')\n",
    "\n",
    "# Get the most frequent variation for each age\n",
    "most_frequent_variation = most_frequent_variation.loc[most_frequent_variation.groupby('age')['count'].idxmax()]\n",
    "\n",
    "# Create separate tables for each group\n",
    "control_group = most_frequent_variation[most_frequent_variation['variation'] == 'Control']\n",
    "test_group = most_frequent_variation[most_frequent_variation['variation'] == 'Test']\n",
    "non_experiment_group = most_frequent_variation[most_frequent_variation['variation'] == 'Non-Experiment']\n",
    "\n",
    "# Display the results\n",
    "print(\"Control Group:\")\n",
    "print(control_group)\n",
    "\n",
    "print(\"\\nTest Group:\")\n",
    "print(test_group)\n",
    "\n",
    "# Get the top 3 ages most frequent users of Vanguard in each group\n",
    "top_3_control = control_group.nlargest(3, 'count')[['age', 'count']]\n",
    "top_3_test = test_group.nlargest(3, 'count')[['age', 'count']]\n",
    "\n",
    "\n",
    "# Display the top 3 ages for each group\n",
    "print(f\"\\nThe top 3 ages of most frequent users of Vanguard in the control group are: {top_3_control['age'].tolist()}\")\n",
    "print(f\"The top 3 ages of most frequent users of Vanguard in the test group are: {top_3_test['age'].tolist()}\")\n"
   ]
  },
  {
   "cell_type": "code",
   "execution_count": 19,
   "id": "87993431-f5ca-4b58-a887-e0918806979e",
   "metadata": {},
   "outputs": [
    {
     "data": {
      "image/png": "[encoded data removed]",
      "text/plain": [
       "<Figure size 1200x600 with 1 Axes>"
      ]
     },
     "metadata": {},
     "output_type": "display_data"
    }
   ],
   "source": [
    "\n",
    "\n",
    "# Assuming most_frequent_variation is already created and contains the necessary data\n",
    "\n",
    "# Create separate DataFrames for each group\n",
    "control_group = most_frequent_variation[most_frequent_variation['variation'] == 'Control']\n",
    "test_group = most_frequent_variation[most_frequent_variation['variation'] == 'Test']\n",
    "non_experiment_group = most_frequent_variation[most_frequent_variation['variation'] == 'Non-Experiment']\n",
    "\n",
    "# Get the top 3 ages most frequent users in each group\n",
    "top_3_control = control_group.nlargest(3, 'count')[['age', 'count']]\n",
    "top_3_test = test_group.nlargest(3, 'count')[['age', 'count']]\n",
    "top_3_non_experiment = non_experiment_group.nlargest(3, 'count')[['age', 'count']]\n",
    "\n",
    "# Combine the data into one DataFrame for visualization\n",
    "top_3_combined = pd.concat([\n",
    "    top_3_control.assign(group='Control'),\n",
    "    top_3_test.assign(group='Test'),\n",
    "    top_3_non_experiment.assign(group='Non-Experiment')\n",
    "])\n",
    "\n",
    "# Create the bar plot\n",
    "plt.figure(figsize=(12, 6))\n",
    "sns.barplot(x='age', y='count', hue='group', data=top_3_combined, palette='Set2')\n",
    "\n",
    "plt.title('Top 3 Ages of Most Frequent Users of Vanguard by Group')\n",
    "plt.xlabel('Age')\n",
    "plt.ylabel('Count')\n",
    "plt.legend(title='Group')\n",
    "plt.xticks(rotation=45)\n",
    "plt.tight_layout()  # Adjust layout to prevent clipping of tick-labels\n",
    "plt.show()"
   ]
  },
  {
   "cell_type": "markdown",
   "id": "ca961768-b159-446d-b1fb-0d70b607d1e0",
   "metadata": {},
   "source": [
    "# Control Group and Age"
   ]
  },
  {
   "cell_type": "code",
   "execution_count": 11,
   "id": "43d31375-195b-421d-ac20-9598553cf8b8",
   "metadata": {},
   "outputs": [
    {
     "name": "stdout",
     "output_type": "stream",
     "text": [
      "     age  count\n",
      "0   17.0     11\n",
      "1   18.0    174\n",
      "2   23.0    788\n",
      "3   24.0    964\n",
      "4   25.0   1251\n",
      "5   26.0   1050\n",
      "6   27.0   1199\n",
      "7   28.0   1299\n",
      "8   29.0   1241\n",
      "9   36.0   1133\n",
      "10  39.0    953\n",
      "11  41.0    968\n",
      "12  44.0   1175\n",
      "13  47.0   1223\n",
      "14  51.0   1364\n",
      "15  69.0    826\n",
      "16  75.0    529\n",
      "17  80.5    196\n",
      "18  82.0    177\n",
      "19  85.0     95\n",
      "20  86.0     78\n",
      "21  88.0    157\n",
      "22  92.0     24\n",
      "23  92.5     18\n",
      "24  93.5     32\n"
     ]
    }
   ],
   "source": [
    "# Filter for only the Control group\n",
    "control_group_variation = most_frequent_variation[most_frequent_variation['variation'] == 'Control']\n",
    "\n",
    "# Count occurrences of 'clnt_age' for the Control group\n",
    "control_age_frequency = control_group_variation.groupby('age')['count'].sum().reset_index()\n",
    "\n",
    "# Print the age frequency\n",
    "print(control_age_frequency)"
   ]
  },
  {
   "cell_type": "code",
   "execution_count": 12,
   "id": "1db9b636-3143-405d-b646-5cbc22913832",
   "metadata": {},
   "outputs": [
    {
     "name": "stdout",
     "output_type": "stream",
     "text": [
      "Control Group Variation:\n",
      "      age variation  count\n",
      "0    17.0   Control     11\n",
      "4    18.0   Control    174\n",
      "24   23.0   Control    788\n",
      "28   24.0   Control    964\n",
      "32   25.0   Control   1251\n",
      "36   26.0   Control   1050\n",
      "40   27.0   Control   1199\n",
      "44   28.0   Control   1299\n",
      "48   29.0   Control   1241\n",
      "76   36.0   Control   1133\n",
      "88   39.0   Control    953\n",
      "96   41.0   Control    968\n",
      "108  44.0   Control   1175\n",
      "120  47.0   Control   1223\n",
      "136  51.0   Control   1364\n",
      "208  69.0   Control    826\n",
      "232  75.0   Control    529\n",
      "254  80.5   Control    196\n",
      "260  82.0   Control    177\n",
      "272  85.0   Control     95\n",
      "276  86.0   Control     78\n",
      "284  88.0   Control    157\n",
      "299  92.0   Control     24\n",
      "301  92.5   Control     18\n",
      "305  93.5   Control     32\n",
      "\n",
      "Control Age Frequency:\n",
      "     age  count\n",
      "0   17.0     11\n",
      "1   18.0    174\n",
      "2   23.0    788\n",
      "3   24.0    964\n",
      "4   25.0   1251\n",
      "5   26.0   1050\n",
      "6   27.0   1199\n",
      "7   28.0   1299\n",
      "8   29.0   1241\n",
      "9   36.0   1133\n",
      "10  39.0    953\n",
      "11  41.0    968\n",
      "12  44.0   1175\n",
      "13  47.0   1223\n",
      "14  51.0   1364\n",
      "15  69.0    826\n",
      "16  75.0    529\n",
      "17  80.5    196\n",
      "18  82.0    177\n",
      "19  85.0     95\n",
      "20  86.0     78\n",
      "21  88.0    157\n",
      "22  92.0     24\n",
      "23  92.5     18\n",
      "24  93.5     32\n",
      "\n",
      "Sorted Control Group by Count:\n",
      "      age variation  count\n",
      "136  51.0   Control   1364\n",
      "44   28.0   Control   1299\n",
      "32   25.0   Control   1251\n",
      "48   29.0   Control   1241\n",
      "120  47.0   Control   1223\n",
      "40   27.0   Control   1199\n",
      "108  44.0   Control   1175\n",
      "76   36.0   Control   1133\n",
      "36   26.0   Control   1050\n",
      "96   41.0   Control    968\n",
      "28   24.0   Control    964\n",
      "88   39.0   Control    953\n",
      "208  69.0   Control    826\n",
      "24   23.0   Control    788\n",
      "232  75.0   Control    529\n",
      "254  80.5   Control    196\n",
      "260  82.0   Control    177\n",
      "4    18.0   Control    174\n",
      "284  88.0   Control    157\n",
      "272  85.0   Control     95\n",
      "276  86.0   Control     78\n",
      "305  93.5   Control     32\n",
      "299  92.0   Control     24\n",
      "301  92.5   Control     18\n",
      "0    17.0   Control     11\n",
      "\n",
      "The top 3 ages in the control group that used Vanguard the most frequently are:\n",
      "Age: 51.0, Count: 1364\n",
      "Age: 28.0, Count: 1299\n",
      "Age: 25.0, Count: 1251\n"
     ]
    }
   ],
   "source": [
    "- "
   ]
  },
  {
   "cell_type": "code",
   "execution_count": 23,
   "id": "cda51a7d-3261-47c7-9558-597848558a75",
   "metadata": {},
   "outputs": [
    {
     "data": {
      "image/png": "[encoded data removed]",
      "text/plain": [
       "<Figure size 1200x600 with 1 Axes>"
      ]
     },
     "metadata": {},
     "output_type": "display_data"
    }
   ],
   "source": [
    "\n",
    "# Adding a dummy variable for hue\n",
    "control_age_frequency['variation'] = 'Control'  # Adding a column for hue\n",
    "\n",
    "# Create the bar plot with hue\n",
    "plt.figure(figsize=(12, 6))\n",
    "sns.barplot(x='age', y='count', hue='variation', data=control_age_frequency, palette='Blues_d', dodge=False)\n",
    "\n",
    "plt.title('Frequency of Ages in the Control Group')\n",
    "plt.xlabel('Age')\n",
    "plt.ylabel('Frequency')\n",
    "plt.xticks(rotation=45)\n",
    "plt.legend(title='Variation', loc='upper right', bbox_to_anchor=(1.15, 1))\n",
    "plt.tight_layout()  # Adjust layout to prevent clipping of tick-labels\n",
    "plt.show()"
   ]
  },
  {
   "cell_type": "markdown",
   "id": "03ac8e04-c877-460a-9245-89a9e2ff92d7",
   "metadata": {},
   "source": [
    "# Test Group and Age "
   ]
  },
  {
   "cell_type": "code",
   "execution_count": 17,
   "id": "5edd1ca1-157f-455c-adf1-58ed3ed286fa",
   "metadata": {},
   "outputs": [
    {
     "name": "stdout",
     "output_type": "stream",
     "text": [
      "Test Group Variation:\n",
      "      age variation  count\n",
      "3    17.5      Test    232\n",
      "7    18.5      Test    456\n",
      "9    19.0      Test    258\n",
      "11   19.5      Test    510\n",
      "13   20.0      Test    317\n",
      "..    ...       ...    ...\n",
      "304  93.0      Test     15\n",
      "307  94.0      Test     13\n",
      "308  94.5      Test      5\n",
      "309  95.5      Test      6\n",
      "311  96.0      Test      6\n",
      "\n",
      "[133 rows x 3 columns]\n",
      "\n",
      "Test Age Frequency:\n",
      "      age  count\n",
      "0    17.5    232\n",
      "1    18.5    456\n",
      "2    19.0    258\n",
      "3    19.5    510\n",
      "4    20.0    317\n",
      "..    ...    ...\n",
      "128  93.0     15\n",
      "129  94.0     13\n",
      "130  94.5      5\n",
      "131  95.5      6\n",
      "132  96.0      6\n",
      "\n",
      "[133 rows x 2 columns]\n",
      "\n",
      "Sorted Variation by Count:\n",
      "      age variation  count\n",
      "183  62.5      Test   2660\n",
      "171  59.5      Test   2594\n",
      "175  60.5      Test   2589\n",
      "163  57.5      Test   2581\n",
      "147  53.5      Test   2576\n",
      "..    ...       ...    ...\n",
      "307  94.0      Test     13\n",
      "0    17.0   Control     11\n",
      "309  95.5      Test      6\n",
      "311  96.0      Test      6\n",
      "308  94.5      Test      5\n",
      "\n",
      "[158 rows x 3 columns]\n",
      "\n",
      "Sorted Test Group by Count:\n",
      "      age variation  count\n",
      "183  62.5      Test   2660\n",
      "171  59.5      Test   2594\n",
      "175  60.5      Test   2589\n",
      "163  57.5      Test   2581\n",
      "147  53.5      Test   2576\n",
      "..    ...       ...    ...\n",
      "304  93.0      Test     15\n",
      "307  94.0      Test     13\n",
      "309  95.5      Test      6\n",
      "311  96.0      Test      6\n",
      "308  94.5      Test      5\n",
      "\n",
      "[133 rows x 3 columns]\n",
      "\n",
      "The top 3 ages in the test group that used Vanguard the most frequently are:\n",
      "Age: 62.5, Count: 2660\n",
      "Age: 59.5, Count: 2594\n",
      "Age: 60.5, Count: 2589\n"
     ]
    }
   ],
   "source": [
    "# Filter for only the Test group\n",
    "test_group_variation = most_frequent_variation[most_frequent_variation['variation'] == 'Test']\n",
    "\n",
    "# Print the result\n",
    "print(\"Test Group Variation:\")\n",
    "print(test_group_variation)\n",
    "\n",
    "# Test occurrences of 'clnt_age' for the Test group\n",
    "test_age_frequency = test_group_variation.groupby('age')['count'].sum().reset_index()\n",
    "\n",
    "# Print the age frequency\n",
    "print(\"\\nTest Age Frequency:\")\n",
    "print(test_age_frequency)\n",
    "\n",
    "# Sort the entire DataFrame by 'count' in descending order\n",
    "sorted_variation = most_frequent_variation.sort_values(by='count', ascending=False)\n",
    "\n",
    "# Print the sorted DataFrame\n",
    "print(\"\\nSorted Variation by Count:\")\n",
    "print(sorted_variation)\n",
    "\n",
    "# Filter for only the Test group and sort by 'count'\n",
    "test_group_sorted = most_frequent_variation[most_frequent_variation['variation'] == 'Test'].sort_values(by='count', ascending=False)\n",
    "\n",
    "# Print the sorted test group DataFrame\n",
    "print(\"\\nSorted Test Group by Count:\")\n",
    "print(test_group_sorted)\n",
    "\n",
    "# Get the top 3 ages in the test group\n",
    "top_3_ages = test_group_sorted.head(3)\n",
    "\n",
    "# Print the result\n",
    "print(\"\\nThe top 3 ages in the test group that used Vanguard the most frequently are:\")\n",
    "for index, row in top_3_ages.iterrows():\n",
    "    print(f\"Age: {row['age']}, Count: {row['count']}\")"
   ]
  },
  {
   "cell_type": "code",
   "execution_count": 24,
   "id": "62b0285f-daa9-41ad-aeb3-024d32882225",
   "metadata": {},
   "outputs": [
    {
     "data": {
      "image/png": "[encoded data removed]",
      "text/plain": [
       "<Figure size 1200x600 with 1 Axes>"
      ]
     },
     "metadata": {},
     "output_type": "display_data"
    }
   ],
   "source": [
    "\n",
    "# Assuming test_age_frequency is already created and contains the necessary data\n",
    "# Create a new DataFrame for the Test group\n",
    "test_age_frequency = most_frequent_variation[most_frequent_variation['variation'] == 'Test'].groupby('age')['count'].sum().reset_index()\n",
    "\n",
    "# Add a dummy variable for hue\n",
    "test_age_frequency['variation'] = 'Test'  # Adding a column for hue\n",
    "\n",
    "# Create the bar plot with hue\n",
    "plt.figure(figsize=(12, 6))\n",
    "sns.barplot(x='age', y='count', hue='variation', data=test_age_frequency, palette='Blues_d', dodge=False)\n",
    "\n",
    "plt.title('Frequency of Ages in the Test Group')\n",
    "plt.xlabel('Age')\n",
    "plt.ylabel('Frequency')\n",
    "plt.xticks(rotation=45)\n",
    "plt.legend(title='Variation', loc='upper right', bbox_to_anchor=(1.15, 1))\n",
    "plt.tight_layout()  # Adjust layout to prevent clipping of tick-labels\n",
    "plt.show()"
   ]
  },
  {
   "cell_type": "markdown",
   "id": "cf2ce4a1-8a81-46d1-8d64-a7d542ca90e8",
   "metadata": {},
   "source": [
    "# Statistics of Age"
   ]
  },
  {
   "cell_type": "code",
   "execution_count": 17,
   "id": "c45eaf37-dbe4-4cb3-857c-8d77b217a627",
   "metadata": {},
   "outputs": [
    {
     "name": "stdout",
     "output_type": "stream",
     "text": [
      "The mean age of the test group is: 48.721650943129276\n"
     ]
    }
   ],
   "source": [
    "# Mean age for the test group\n",
    "test_group = df_full[df_full['variation'] == 'Test']\n",
    "mean_age_test_group = test_group['age'].mean()\n",
    "print(f\"The mean age of the test group is: {mean_age_test_group}\")"
   ]
  },
  {
   "cell_type": "code",
   "execution_count": 18,
   "id": "459e734c-af48-42d1-8560-2538cfc8ecb3",
   "metadata": {},
   "outputs": [
    {
     "name": "stdout",
     "output_type": "stream",
     "text": [
      "The mean age of the control group is: 48.28398417487334\n"
     ]
    }
   ],
   "source": [
    "# Mean age for the control group\n",
    "\n",
    "control_group = df_full[df_full['variation'] == 'Control']\n",
    "mean_age_control_group = control_group['age'].mean()\n",
    "print(f\"The mean age of the control group is: {mean_age_control_group}\")"
   ]
  },
  {
   "cell_type": "code",
   "execution_count": 20,
   "id": "c047acd5-89c7-4550-afda-f6c9d184dc1d",
   "metadata": {},
   "outputs": [
    {
     "name": "stdout",
     "output_type": "stream",
     "text": [
      "48.52776333002348\n"
     ]
    }
   ],
   "source": [
    "# mean age of range of people using vanguard \n",
    "mean_age = df_full['age'].mean()\n",
    "print(mean_age)"
   ]
  },
  {
   "cell_type": "code",
   "execution_count": 21,
   "id": "90d740a4-5dc3-4d81-b78e-cbd45869611e",
   "metadata": {},
   "outputs": [
    {
     "name": "stdout",
     "output_type": "stream",
     "text": [
      "0    58.5\n",
      "Name: age, dtype: float64\n"
     ]
    }
   ],
   "source": [
    "#mode age of range of people using vanguard\n",
    "mode_age = df_full['age'].mode()\n",
    "print(mode_age)"
   ]
  },
  {
   "cell_type": "code",
   "execution_count": 22,
   "id": "3e0793b9-2c74-41eb-a80c-f8c1854b83df",
   "metadata": {},
   "outputs": [
    {
     "name": "stdout",
     "output_type": "stream",
     "text": [
      "17.0\n",
      "96.0\n"
     ]
    }
   ],
   "source": [
    "# Measure of min/maxage range for the users in vanguard group\n",
    "min_age = df_full['age'].min()\n",
    "max_age = df_full['age'].max()\n",
    "print(min_age)\n",
    "print(max_age) "
   ]
  },
  {
   "cell_type": "markdown",
   "id": "9fdc364b-a571-41c5-86cd-a950853ab150",
   "metadata": {},
   "source": [
    "# Measures of Dispersion for each group"
   ]
  },
  {
   "cell_type": "code",
   "execution_count": 24,
   "id": "f865297e-6e6f-4f73-b7db-2efb5b7ce6f6",
   "metadata": {},
   "outputs": [
    {
     "name": "stdout",
     "output_type": "stream",
     "text": [
      "Variance of Ages: 783.2108333333332\n",
      "Standard Deviation of Ages: 27.98590419002633\n",
      "Minimum Age: 17.0\n",
      "Maximum Age: 93.5\n",
      "Range of Ages: 76.5\n",
      "Quantiles of Ages:\n",
      " 0.25    27.0\n",
      "0.50    44.0\n",
      "0.75    82.0\n",
      "Name: age, dtype: float64\n"
     ]
    }
   ],
   "source": [
    "# the control group\n",
    "control_group = most_frequent_variation[most_frequent_variation['variation'] == 'Control']\n",
    "\n",
    "# Calculate measures of dispersion for 'clnt_age' in the control group\n",
    "variance_age = control_group['age'].var()\n",
    "std_dev_age = control_group['age'].std()\n",
    "min_age = control_group['age'].min()\n",
    "max_age = control_group['age'].max()\n",
    "range_age = max_age - min_age\n",
    "quantiles_age = control_group['age'].quantile([0.25, 0.5, 0.75])\n",
    "\n",
    "# Output the results\n",
    "print(\"Variance of Ages:\", variance_age)\n",
    "print(\"Standard Deviation of Ages:\", std_dev_age)\n",
    "print(\"Minimum Age:\", min_age)\n",
    "print(\"Maximum Age:\", max_age)\n",
    "print(\"Range of Ages:\", range_age)\n",
    "print(\"Quantiles of Ages:\\n\", quantiles_age)"
   ]
  },
  {
   "cell_type": "code",
   "execution_count": 25,
   "id": "c3d8a5f7-a843-48a7-bd84-9c9c0e74f9f2",
   "metadata": {},
   "outputs": [
    {
     "name": "stdout",
     "output_type": "stream",
     "text": [
      "Variance of Ages: 477.9097744360901\n",
      "Standard Deviation of Ages: 21.861147601077352\n",
      "Minimum Age: 17.5\n",
      "Maximum Age: 96.0\n",
      "Range of Ages: 78.5\n",
      "Quantiles of Ages:\n",
      " 0.25    38.5\n",
      "0.50    57.5\n",
      "0.75    74.5\n",
      "Name: age, dtype: float64\n"
     ]
    }
   ],
   "source": [
    "# the test group\n",
    "test_group = most_frequent_variation[most_frequent_variation['variation'] == 'Test']\n",
    "\n",
    "# Calculate measures of dispersion for 'clnt_age' in the test group\n",
    "variance_age = test_group ['age'].var()\n",
    "std_dev_age = test_group['age'].std()\n",
    "min_age = test_group['age'].min()\n",
    "max_age = test_group['age'].max()\n",
    "range_age = max_age - min_age\n",
    "quantiles_age = test_group['age'].quantile([0.25, 0.5, 0.75])\n",
    "\n",
    "# Output the results\n",
    "print(\"Variance of Ages:\", variance_age)\n",
    "print(\"Standard Deviation of Ages:\", std_dev_age)\n",
    "print(\"Minimum Age:\", min_age)\n",
    "print(\"Maximum Age:\", max_age)\n",
    "print(\"Range of Ages:\", range_age)\n",
    "print(\"Quantiles of Ages:\\n\", quantiles_age)"
   ]
  },
  {
   "cell_type": "markdown",
   "id": "2f627d94-62a8-49f4-a16f-4aa98dd3da5b",
   "metadata": {},
   "source": [
    "# Stats of Tenure by Year"
   ]
  },
  {
   "cell_type": "code",
   "execution_count": 28,
   "id": "f377756f-9998-45bd-af77-719a3e62ca47",
   "metadata": {},
   "outputs": [
    {
     "name": "stdout",
     "output_type": "stream",
     "text": [
      "The mean age of the test group is: 48.721650943129276\n",
      "The mean tenure in years of the test group is: 12.181636568401633\n"
     ]
    }
   ],
   "source": [
    "# Mean age and tenure for the test group\n",
    "test_group = df_full[df_full['variation'] == 'Test']\n",
    "\n",
    "# Calculate mean age and mean tenure in months\n",
    "mean_age_test_group = test_group['age'].mean()\n",
    "mean_tenure_test_group = test_group['client_tenure_years'].mean()\n",
    "\n",
    "# Print the results\n",
    "print(f\"The mean age of the test group is: {mean_age_test_group}\")\n",
    "print(f\"The mean tenure in years of the test group is: {mean_tenure_test_group}\")"
   ]
  },
  {
   "cell_type": "code",
   "execution_count": 29,
   "id": "19745e30-c9df-4b2d-9141-56a079396a0c",
   "metadata": {},
   "outputs": [
    {
     "name": "stdout",
     "output_type": "stream",
     "text": [
      "The mean age of the control group is: 48.28398417487334\n",
      "The mean tenure in years of the control group is: 12.167088859793932\n"
     ]
    }
   ],
   "source": [
    "# Mean age and tenure for the control group\n",
    "control_group = df_full[df_full['variation'] == 'Control']\n",
    "\n",
    "# Calculate mean age and mean tenure in years\n",
    "mean_age_control_group = control_group['age'].mean()\n",
    "mean_tenure_control_group = control_group['client_tenure_years'].mean()\n",
    "\n",
    "# Print the results\n",
    "print(f\"The mean age of the control group is: {mean_age_control_group}\")\n",
    "print(f\"The mean tenure in years of the control group is: {mean_tenure_control_group}\")"
   ]
  },
  {
   "cell_type": "code",
   "execution_count": 27,
   "id": "3a8cb0b0-565d-470e-b816-c83613b3429d",
   "metadata": {},
   "outputs": [
    {
     "data": {
      "image/png": "[encoded data removed]",
      "text/plain": [
       "<Figure size 1000x600 with 1 Axes>"
      ]
     },
     "metadata": {},
     "output_type": "display_data"
    }
   ],
   "source": [
    "\n",
    "\n",
    "# Create the bar plot\n",
    "plt.figure(figsize=(10, 6))\n",
    "sns.barplot(x='Metric', y='Value', hue='Group', data=summary_data, palette='Blues_d')\n",
    "\n",
    "plt.title('Mean Age and Tenure for Control and Test Groups')\n",
    "plt.xlabel('Metric')\n",
    "plt.ylabel('Value')\n",
    "plt.legend(title='Group')\n",
    "plt.tight_layout()  # Adjust layout to prevent clipping of tick-labels\n",
    "plt.show()"
   ]
  },
  {
   "cell_type": "markdown",
   "id": "e43bb087-9f47-48a8-9149-a99377a5271b",
   "metadata": {},
   "source": [
    "# Proportion of Control Group and Age"
   ]
  },
  {
   "cell_type": "code",
   "execution_count": 31,
   "id": "df712a3c-aaf8-49d9-ae9d-5e87ba749e7d",
   "metadata": {},
   "outputs": [
    {
     "name": "stdout",
     "output_type": "stream",
     "text": [
      "Variation Groups for Control Group:\n",
      "  variation   Count\n",
      "0   Control  140536\n",
      "\n",
      "Age Frequency for Control Group:\n",
      "      age  Count\n",
      "0    17.0     11\n",
      "1    17.5    179\n",
      "2    18.0    174\n",
      "3    18.5    252\n",
      "4    19.0    198\n",
      "..    ...    ...\n",
      "150  92.5     18\n",
      "151  93.0     12\n",
      "152  93.5     32\n",
      "153  94.0     11\n",
      "154  96.0      4\n",
      "\n",
      "[155 rows x 2 columns]\n",
      "\n",
      "Proportion of Variations for Control Group:\n",
      "  variation  Proportion\n",
      "0   Control         1.0\n",
      "\n",
      "Proportion of Ages for Control Group:\n",
      "      age  Proportion\n",
      "0    58.5    0.014786\n",
      "1    59.5    0.013569\n",
      "2    55.5    0.013470\n",
      "3    61.5    0.013463\n",
      "4    62.5    0.013420\n",
      "..    ...         ...\n",
      "150  17.0    0.000078\n",
      "151  94.0    0.000078\n",
      "152  91.5    0.000043\n",
      "153  96.0    0.000028\n",
      "154  90.0    0.000021\n",
      "\n",
      "[155 rows x 2 columns]\n",
      "\n",
      "Proportion of Variation and Age for Control Group:\n",
      "    variation   age  Count  Proportion\n",
      "0     Control  17.0     11    0.000078\n",
      "1     Control  17.5    179    0.001274\n",
      "2     Control  18.0    174    0.001238\n",
      "3     Control  18.5    252    0.001793\n",
      "4     Control  19.0    198    0.001409\n",
      "..        ...   ...    ...         ...\n",
      "150   Control  92.5     18    0.000128\n",
      "151   Control  93.0     12    0.000085\n",
      "152   Control  93.5     32    0.000228\n",
      "153   Control  94.0     11    0.000078\n",
      "154   Control  96.0      4    0.000028\n",
      "\n",
      "[155 rows x 4 columns]\n",
      "\n",
      "The top 3 proportions for the Control group according to age are: [(58.5, 0.014786246940285764), (59.5, 0.01356947686002163), (55.5, 0.013469858256959072)]\n"
     ]
    }
   ],
   "source": [
    "# Filter for the Control group\n",
    "control_group = df_full[df_full['variation'] == 'Control']\n",
    "\n",
    "# Calculate variation groups and their counts for the Control group\n",
    "variation_groups = control_group.groupby('variation')['age'].size().reset_index(name='Count')\n",
    "\n",
    "# Print the variation groups\n",
    "print(\"Variation Groups for Control Group:\")\n",
    "print(variation_groups)\n",
    "\n",
    "# Calculate age frequency for the Control group\n",
    "age_frequency = control_group.groupby('age').size().reset_index(name='Count')\n",
    "\n",
    "# Print the age frequency\n",
    "print(\"\\nAge Frequency for Control Group:\")\n",
    "print(age_frequency)\n",
    "\n",
    "# Calculate the proportion of variations for the Control group\n",
    "variation_proportion = control_group['variation'].value_counts(normalize=True).reset_index(name='Proportion')\n",
    "variation_proportion.columns = ['variation', 'Proportion']\n",
    "\n",
    "# Print the variation proportions for Control group\n",
    "print(\"\\nProportion of Variations for Control Group:\")\n",
    "print(variation_proportion)\n",
    "\n",
    "# Calculate the proportion of ages for the Control group\n",
    "age_proportion = control_group['age'].value_counts(normalize=True).reset_index(name='Proportion')\n",
    "age_proportion.columns = ['age', 'Proportion']\n",
    "\n",
    "# Print the age proportions for Control group\n",
    "print(\"\\nProportion of Ages for Control Group:\")\n",
    "print(age_proportion)\n",
    "\n",
    "# Calculate the total count for each variation and age group for the Control group\n",
    "variation_age_proportion = control_group.groupby(['variation', 'age']).size().reset_index(name='Count')\n",
    "\n",
    "# Calculate the proportion within each variation group\n",
    "variation_age_proportion['Proportion'] = variation_age_proportion.groupby('variation')['Count'].transform(lambda x: x / x.sum())\n",
    "\n",
    "# Print the combined proportion of variation and age for Control group\n",
    "print(\"\\nProportion of Variation and Age for Control Group:\")\n",
    "print(variation_age_proportion)\n",
    "\n",
    "# Get the top 3 proportions for the Control group according to age\n",
    "top_3_age_proportions = age_proportion.nlargest(3, 'Proportion')\n",
    "\n",
    "# Print the final statement\n",
    "top_3_ages = top_3_age_proportions['age'].tolist()\n",
    "top_3_proportions = top_3_age_proportions['Proportion'].tolist()\n",
    "print(f\"\\nThe top 3 proportions for the Control group according to age are: {list(zip(top_3_ages, top_3_proportions))}\")"
   ]
  },
  {
   "cell_type": "markdown",
   "id": "6f5715f2-fec3-4cd2-8924-ff33fe45baca",
   "metadata": {},
   "source": [
    "# Proportion of Test Group and Age"
   ]
  },
  {
   "cell_type": "code",
   "execution_count": 32,
   "id": "99c9b4d2-9e2a-4f6b-94b7-0ce85b8dd73d",
   "metadata": {},
   "outputs": [
    {
     "name": "stdout",
     "output_type": "stream",
     "text": [
      "Variation Groups for Test Group:\n",
      "  variation   Count\n",
      "0      Test  176699\n",
      "\n",
      "Age Frequency for Test Group:\n",
      "      age  Count\n",
      "0    17.0      8\n",
      "1    17.5    232\n",
      "2    18.0    140\n",
      "3    18.5    456\n",
      "4    19.0    258\n",
      "..    ...    ...\n",
      "152  93.0     15\n",
      "153  94.0     13\n",
      "154  94.5      5\n",
      "155  95.5      6\n",
      "156  96.0      6\n",
      "\n",
      "[157 rows x 2 columns]\n",
      "\n",
      "Proportion of Variations for Test Group:\n",
      "  variation  Proportion\n",
      "0      Test         1.0\n",
      "\n",
      "Proportion of Ages for Test Group:\n",
      "      age  Proportion\n",
      "0    62.5    0.015054\n",
      "1    59.5    0.014680\n",
      "2    60.5    0.014652\n",
      "3    57.5    0.014607\n",
      "4    53.5    0.014578\n",
      "..    ...         ...\n",
      "152  86.0    0.000051\n",
      "153  17.0    0.000045\n",
      "154  96.0    0.000034\n",
      "155  95.5    0.000034\n",
      "156  94.5    0.000028\n",
      "\n",
      "[157 rows x 2 columns]\n",
      "\n",
      "Proportion of Variation and Age for Test Group:\n",
      "    variation   age  Count  Proportion\n",
      "0        Test  17.0      8    0.000045\n",
      "1        Test  17.5    232    0.001313\n",
      "2        Test  18.0    140    0.000792\n",
      "3        Test  18.5    456    0.002581\n",
      "4        Test  19.0    258    0.001460\n",
      "..        ...   ...    ...         ...\n",
      "152      Test  93.0     15    0.000085\n",
      "153      Test  94.0     13    0.000074\n",
      "154      Test  94.5      5    0.000028\n",
      "155      Test  95.5      6    0.000034\n",
      "156      Test  96.0      6    0.000034\n",
      "\n",
      "[157 rows x 4 columns]\n",
      "\n",
      "The top 3 proportions for the Test group according to age are: [(62.5, 0.015053848635249775), (59.5, 0.01468033209016463), (60.5, 0.014652035382203634)]\n"
     ]
    }
   ],
   "source": [
    "# Filter for the Test group\n",
    "test_group = df_full[df_full['variation'] == 'Test']\n",
    "\n",
    "# Calculate variation groups and their counts for the Test group\n",
    "variation_groups = test_group.groupby('variation')['age'].size().reset_index(name='Count')\n",
    "\n",
    "# Print the variation groups\n",
    "print(\"Variation Groups for Test Group:\")\n",
    "print(variation_groups)\n",
    "\n",
    "# Calculate age frequency for the Test group\n",
    "age_frequency = test_group.groupby('age').size().reset_index(name='Count')\n",
    "\n",
    "# Print the age frequency\n",
    "print(\"\\nAge Frequency for Test Group:\")\n",
    "print(age_frequency)\n",
    "\n",
    "# Calculate the proportion of variations for the Test group\n",
    "variation_proportion = test_group['variation'].value_counts(normalize=True).reset_index(name='Proportion')\n",
    "variation_proportion.columns = ['variation', 'Proportion']\n",
    "\n",
    "# Print the variation proportions for Test group\n",
    "print(\"\\nProportion of Variations for Test Group:\")\n",
    "print(variation_proportion)\n",
    "\n",
    "# Calculate the proportion of ages for the Test group\n",
    "age_proportion = test_group['age'].value_counts(normalize=True).reset_index(name='Proportion')\n",
    "age_proportion.columns = ['age', 'Proportion']\n",
    "\n",
    "# Print the age proportions for Test group\n",
    "print(\"\\nProportion of Ages for Test Group:\")\n",
    "print(age_proportion)\n",
    "\n",
    "# Calculate the total count for each variation and age group for the Test group\n",
    "variation_age_proportion = test_group.groupby(['variation', 'age']).size().reset_index(name='Count')\n",
    "\n",
    "# Calculate the proportion within each variation group\n",
    "variation_age_proportion['Proportion'] = variation_age_proportion.groupby('variation')['Count'].transform(lambda x: x / x.sum())\n",
    "\n",
    "# Print the combined proportion of variation and age for Test group\n",
    "print(\"\\nProportion of Variation and Age for Test Group:\")\n",
    "print(variation_age_proportion)\n",
    "\n",
    "# Get the top 3 proportions for the Test group according to age\n",
    "top_3_age_proportions = age_proportion.nlargest(3, 'Proportion')\n",
    "\n",
    "# Print the final statement\n",
    "top_3_ages = top_3_age_proportions['age'].tolist()\n",
    "top_3_proportions = top_3_age_proportions['Proportion'].tolist()\n",
    "print(f\"\\nThe top 3 proportions for the Test group according to age are: {list(zip(top_3_ages, top_3_proportions))}\")"
   ]
  },
  {
   "cell_type": "markdown",
   "id": "4aabbdd1-09c3-412e-8157-f85136c49147",
   "metadata": {},
   "source": [
    "# Tenure and Age of Control Group"
   ]
  },
  {
   "cell_type": "code",
   "execution_count": 36,
   "id": "3113fac5-d7bc-484f-bea2-ab2bf7555c8c",
   "metadata": {
    "scrolled": true
   },
   "outputs": [
    {
     "name": "stdout",
     "output_type": "stream",
     "text": [
      "Top 3 Ages with Longest Tenure:\n",
      "        age  client_tenure_years\n",
      "25648  48.5                   55\n",
      "25649  48.5                   55\n",
      "25650  48.5                   55\n",
      "\n",
      "Top 3 Ages with Least Tenure:\n",
      "        age  client_tenure_years\n",
      "11989  19.5                    2\n",
      "11990  19.5                    2\n",
      "11991  19.5                    2\n"
     ]
    }
   ],
   "source": [
    "# Filter for control group\n",
    "filtered_df = df_full[df_full['variation'] == 'Control']\n",
    "\n",
    "# Get top 3 ages with the longest tenure\n",
    "longest_tenure = filtered_df.nlargest(3, 'client_tenure_years')[['age', 'client_tenure_years']]\n",
    "\n",
    "# Get top 3 ages with the least tenure\n",
    "least_tenure = filtered_df.nsmallest(3, 'client_tenure_years')[['age', 'client_tenure_years']]\n",
    "\n",
    "# Display the results\n",
    "print(\"Top 3 Ages with Longest Tenure:\")\n",
    "print(longest_tenure)\n",
    "\n",
    "print(\"\\nTop 3 Ages with Least Tenure:\")\n",
    "print(least_tenure)"
   ]
  },
  {
   "cell_type": "markdown",
   "id": "fe58fcb5-7ecf-45b7-a0fd-ec2e45e80ad0",
   "metadata": {},
   "source": [
    "# Tenure and Age of Test Group"
   ]
  },
  {
   "cell_type": "code",
   "execution_count": 37,
   "id": "31f5eec5-aff0-4efd-9a81-7ac8b97a22d6",
   "metadata": {
    "scrolled": true
   },
   "outputs": [
    {
     "name": "stdout",
     "output_type": "stream",
     "text": [
      "Top 3 Ages with Longest Tenure:\n",
      "         age  client_tenure_years\n",
      "119095  42.5                   55\n",
      "119096  42.5                   55\n",
      "119097  42.5                   55\n",
      "\n",
      "Top 3 Ages with Least Tenure:\n",
      "        age  client_tenure_years\n",
      "19475  58.5                    2\n",
      "19476  58.5                    2\n",
      "19477  58.5                    2\n"
     ]
    }
   ],
   "source": [
    "# Filter for test group\n",
    "filtered_df = df_full[df_full['variation'] == 'Test']\n",
    "\n",
    "# Get top 3 ages with the longest tenure\n",
    "longest_tenure = filtered_df.nlargest(3, 'client_tenure_years')[['age', 'client_tenure_years']]\n",
    "longest_tenure['client_tenure_years'] = longest_tenure['client_tenure_years'].astype(int)  # Convert to integer\n",
    "\n",
    "# Get top 3 ages with the least tenure\n",
    "least_tenure = filtered_df.nsmallest(3, 'client_tenure_years')[['age', 'client_tenure_years']]\n",
    "least_tenure['client_tenure_years'] = least_tenure['client_tenure_years'].astype(int)  # Convert to integer\n",
    "\n",
    "# Display the results\n",
    "print(\"Top 3 Ages with Longest Tenure:\")\n",
    "print(longest_tenure)\n",
    "\n",
    "print(\"\\nTop 3 Ages with Least Tenure:\")\n",
    "print(least_tenure)"
   ]
  },
  {
   "cell_type": "markdown",
   "id": "91fa14dc-b541-426b-9389-2d3563f90945",
   "metadata": {},
   "source": [
    "# The most and least amount of Log-ins according to Age and Variant Group "
   ]
  },
  {
   "cell_type": "code",
   "execution_count": 13,
   "id": "c759b9d8-6fd4-4405-95f5-00c368a7e4b2",
   "metadata": {},
   "outputs": [
    {
     "name": "stdout",
     "output_type": "stream",
     "text": [
      "This 42.5 year old with 55 years tenure in the Test group logged on the most in 6 months. They logged on 4 times.\n",
      "This 42.5 year old with 55 years tenure in the Test group logged on the least in 6 months. They logged on 4 times.\n",
      "This 48.5 year old with 55 years tenure in the Control group logged on the most in 6 months. They logged on 3 times.\n",
      "This 48.5 year old with 55 years tenure in the Control group logged on the least in 6 months. They logged on 3 times.\n"
     ]
    }
   ],
   "source": [
    "\n",
    "\n",
    "# Function to get longest tenure and logon counts for a given group\n",
    "\n",
    "def get_longest_tenure_and_logons(df, group_name):\n",
    "    # Get the top 3 ages with the longest tenure\n",
    "    longest_tenure = df.nlargest(3, 'client_tenure_years')[['age', 'client_tenure_years', 'logons_6_months']]\n",
    "    longest_tenure['Group'] = group_name\n",
    "    \n",
    "    # Get the most frequent logon\n",
    "    most_logons = longest_tenure.nlargest(1, 'logons_6_months')\n",
    "    \n",
    "    # Get the least frequent logon\n",
    "    least_logons = longest_tenure.nsmallest(1, 'logons_6_months')\n",
    "    \n",
    "    return most_logons, least_logons\n",
    "\n",
    "# Filter for each group\n",
    "test_group = df_full[df_full['variation'] == 'Test']\n",
    "control_group = df_full[df_full['variation'] == 'Control']\n",
    "\n",
    "\n",
    "# Get longest tenure and logons for each group\n",
    "most_tenure_test, least_tenure_test = get_longest_tenure_and_logons(test_group, 'Test')\n",
    "most_tenure_control, least_tenure_control = get_longest_tenure_and_logons(control_group, 'Control')\n",
    "\n",
    "\n",
    "# Display results and summary statements\n",
    "def print_summary(most_tenure, least_tenure, group_name):\n",
    "    most_age = most_tenure['age'].values[0]\n",
    "    most_tenure_value = int(most_tenure['client_tenure_years'].values[0])  # Convert to integer\n",
    "    most_logons = most_tenure['logons_6_months'].values[0]  # Get the number of logons\n",
    "\n",
    "    least_age = least_tenure['age'].values[0]\n",
    "    least_tenure_value = int(least_tenure['client_tenure_years'].values[0])  # Convert to integer\n",
    "    least_logons = least_tenure['logons_6_months'].values[0]\n",
    "\n",
    "    # Updated print statements\n",
    "    print(f\"This {most_age} year old with {most_tenure_value} years tenure in the {group_name} group logged on the most in 6 months. They logged on {most_logons} times.\")\n",
    "    print(f\"This {least_age} year old with {least_tenure_value} years tenure in the {group_name} group logged on the least in 6 months. They logged on {least_logons} times.\")\n",
    "\n",
    "# Example usage\n",
    "print_summary(most_tenure_test, least_tenure_test, 'Test')\n",
    "print_summary(most_tenure_control, least_tenure_control, 'Control')"
   ]
  },
  {
   "cell_type": "code",
   "execution_count": 29,
   "id": "d62da21f-c0b9-4338-8a35-dbce76fbe5e8",
   "metadata": {},
   "outputs": [
    {
     "data": {
      "image/png": "[encoded data removed]",
      "text/plain": [
       "<Figure size 1400x600 with 2 Axes>"
      ]
     },
     "metadata": {},
     "output_type": "display_data"
    }
   ],
   "source": [
    "\n",
    "\n",
    "# Create box plots for client tenure\n",
    "plt.figure(figsize=(14, 6))\n",
    "\n",
    "# Box plot for client tenure years\n",
    "plt.subplot(1, 2, 1)\n",
    "sns.boxplot(x='Group', y='client_tenure_years', data=summary_data, hue='Group', palette='Purples', legend=False)\n",
    "plt.title('Box Plot of Client Tenure Years by Group')\n",
    "plt.xlabel('Group')\n",
    "plt.ylabel('Client Tenure (Years)')\n",
    "\n",
    "# Box plot for logons in 6 months\n",
    "plt.subplot(1, 2, 2)\n",
    "sns.boxplot(x='Group', y='logons_6_months', data=summary_data, hue='Group', palette='Purples', legend=False)\n",
    "plt.title('Box Plot of Logons in 6 Months by Group')\n",
    "plt.xlabel('Group')\n",
    "plt.ylabel('Logons in 6 Months')\n",
    "\n",
    "plt.tight_layout()  # Adjust layout to prevent clipping of tick-labels\n",
    "plt.show()"
   ]
  },
  {
   "cell_type": "markdown",
   "id": "869e47a2-9581-410f-80e8-b850f2daa20d",
   "metadata": {},
   "source": [
    "# The most and least amount of Calls according to Age and Variant Group "
   ]
  },
  {
   "cell_type": "code",
   "execution_count": 14,
   "id": "2634787d-cdf8-4057-a34e-d2ce409c5da8",
   "metadata": {},
   "outputs": [
    {
     "name": "stdout",
     "output_type": "stream",
     "text": [
      "This 42.5 year old with 55 years tenure in the Test group called the most in 6 months. They called 1 times.\n",
      "This 42.5 year old with 55 years tenure in the Test group called the least in 6 months. They called 1 times.\n",
      "This 48.5 year old with 55 years tenure in the Control group called the most in 6 months. They called 0 times.\n",
      "This 48.5 year old with 55 years tenure in the Control group called the least in 6 months. They called 0 times.\n"
     ]
    }
   ],
   "source": [
    "# Function to get longest tenure and call counts for a given group\n",
    "\n",
    "def get_longest_tenure_and_calls(df, group_name):\n",
    "    # Get the top 3 ages with the longest tenure\n",
    "    longest_tenure = df.nlargest(3, 'client_tenure_years')[['age', 'client_tenure_years', 'calls_6_months']]\n",
    "    longest_tenure['Group'] = group_name\n",
    "    \n",
    "    # Get the most frequent calls\n",
    "    most_calls = longest_tenure.nlargest(1, 'calls_6_months')\n",
    "    \n",
    "    # Get the least frequent calls\n",
    "    least_calls = longest_tenure.nsmallest(1, 'calls_6_months')\n",
    "    \n",
    "    return most_calls, least_calls\n",
    "\n",
    "# Filter for each group\n",
    "test_group = df_full[df_full['variation'] == 'Test']\n",
    "control_group = df_full[df_full['variation'] == 'Control']\n",
    "\n",
    "\n",
    "# Get longest tenure and calls for each group\n",
    "most_tenure_test, least_tenure_test = get_longest_tenure_and_calls(test_group, 'Test')\n",
    "most_tenure_control, least_tenure_control = get_longest_tenure_and_calls(control_group, 'Control')\n",
    "\n",
    "\n",
    "# Display results and summary statements\n",
    "def print_summary(most_tenure, least_tenure, group_name):\n",
    "    most_age = most_tenure['age'].values[0]\n",
    "    most_tenure_value = int(most_tenure['client_tenure_years'].values[0])  # Convert to integer\n",
    "    most_calls = most_tenure['calls_6_months'].values[0]  # Get the number of calls\n",
    "\n",
    "    least_age = least_tenure['age'].values[0]\n",
    "    least_tenure_value = int(least_tenure['client_tenure_years'].values[0])  # Convert to integer\n",
    "    least_calls = least_tenure['calls_6_months'].values[0]\n",
    "\n",
    "    # Updated print statement\n",
    "    print(f\"This {most_age} year old with {most_tenure_value} years tenure in the {group_name} group called the most in 6 months. They called {most_calls} times.\")\n",
    "    print(f\"This {least_age} year old with {least_tenure_value} years tenure in the {group_name} group called the least in 6 months. They called {least_calls} times.\")\n",
    "\n",
    "# Example usage\n",
    "print_summary(most_tenure_test, least_tenure_test, 'Test')\n",
    "print_summary(most_tenure_control, least_tenure_control, 'Control')\n"
   ]
  },
  {
   "cell_type": "code",
   "execution_count": 43,
   "id": "85155343-403a-4915-b593-9e10130b73e7",
   "metadata": {},
   "outputs": [
    {
     "name": "stdout",
     "output_type": "stream",
     "text": [
      "Average Balance for users with > 6 months tenure: 181842.54149015513\n",
      "Correlation between calls and balance: 0.1763078506204286\n",
      "Correlation between logons and balance: 0.18389552643213009\n",
      "T-statistic: 57.620486828464635, P-value: 0.0\n"
     ]
    }
   ],
   "source": [
    "import pandas as pd\n",
    "from scipy import stats\n",
    "\n",
    "# Load the DataFrame\n",
    "df_full = pd.read_pickle(config['data']['clean']['df_full'])\n",
    "\n",
    "# Step 1: Filter users with tenure greater than 6 months\n",
    "df_filtered = df_full[df_full['client_tenure_years'] > 6]\n",
    "\n",
    "# Step 2: Analyze Performance\n",
    "average_balance = df_filtered['balance'].mean()\n",
    "print(f\"Average Balance for users with > 6 months tenure: {average_balance}\")\n",
    "\n",
    "# Step 3: Analyze Correlations\n",
    "correlation_calls = df_filtered['calls_6_months'].corr(df_filtered['balance'])\n",
    "correlation_logons = df_filtered['logons_6_months'].corr(df_filtered['balance'])\n",
    "print(f\"Correlation between calls and balance: {correlation_calls}\")\n",
    "print(f\"Correlation between logons and balance: {correlation_logons}\")\n",
    "\n",
    "# Step 4: Statistical Testing\n",
    "tenure_less_than_6 = df_full[df_full['client_tenure_years'] <= 6]['balance']\n",
    "t_stat, p_value = stats.ttest_ind(df_filtered['balance'].dropna(), tenure_less_than_6.dropna())\n",
    "print(f\"T-statistic: {t_stat}, P-value: {p_value}\")"
   ]
  },
  {
   "cell_type": "markdown",
   "id": "4755cb32-6fdb-4e85-86b1-c50c14e5a16c",
   "metadata": {},
   "source": [
    "# T-statistic: 57.620486828464635, P-value: 0.0\n",
    "\n",
    "# Interpretation:\n",
    "T-statistic: A value of 57.62 indicates a substantial difference in the average balance between users with more than 6 months of tenure versus those with 6 months or less.\n",
    "P-value: A p-value of 0.0 (typically reported as < 0.001) indicates that the difference in averages is statistically significant. This suggests that there is a very strong likelihood that the observed difference in balances is not due to random chance.\n",
    "\n",
    "Users with more than 6 months of tenure have a significantly higher average balance compared to newer users.\n",
    "There is a weak positive correlation between both calls and logons with balance, indicating that while there is some relationship, it is not strong enough to imply causation.\n",
    "The statistical test confirms that the difference in performance (balance) between the two groups is significant.\n"
   ]
  },
  {
   "cell_type": "code",
   "execution_count": 43,
   "id": "b7f0c0e3-0784-448f-94d4-31662a9ee442",
   "metadata": {},
   "outputs": [
    {
     "data": {
      "image/png": "[encoded data removed]",
      "text/plain": [
       "<Figure size 1000x600 with 1 Axes>"
      ]
     },
     "metadata": {},
     "output_type": "display_data"
    }
   ],
   "source": [
    "# Load the DataFrame\n",
    "df_full = pd.read_pickle(config['data']['clean']['df_full'])\n",
    "\n",
    "# Step 1: Filter users with tenure greater than 6 months\n",
    "df_filtered = df_full[df_full['client_tenure_years'] > 6]\n",
    "\n",
    "# Check if df_filtered is empty\n",
    "if df_filtered.empty:\n",
    "    print(\"No data available for users with more than 6 months tenure.\")\n",
    "else:\n",
    "    # Step 2: Calculate average balance\n",
    "    average_balance = df_filtered['balance'].mean()\n",
    "    \n",
    "    # Step 3: Create the histogram\n",
    "    plt.figure(figsize=(10, 6))\n",
    "    plt.hist(df_filtered['balance'], bins=30, color='skyblue', edgecolor='black')\n",
    "    plt.axvline(average_balance, color='red', linestyle='dashed', linewidth=2, label='Average Balance')\n",
    "    plt.title('Distribution of Balances for Users with > 6 Months Tenure')\n",
    "    plt.xlabel('Balance')\n",
    "    plt.ylabel('Frequency')\n",
    "    plt.legend()\n",
    "    plt.show()"
   ]
  },
  {
   "cell_type": "code",
   "execution_count": 39,
   "id": "6fab3751-5dff-4092-a628-dae09a7db1c5",
   "metadata": {},
   "outputs": [
    {
     "data": {
      "image/png": "[encoded data removed]",
      "text/plain": [
       "<Figure size 1200x500 with 2 Axes>"
      ]
     },
     "metadata": {},
     "output_type": "display_data"
    }
   ],
   "source": [
    "\n",
    "#Scatter plots that visually represent the correlation between the number of calls/logons and account balances. Two scatter plots, one for calls and one for logons.\n",
    "# Scatter plot for calls and balance\n",
    "plt.figure(figsize=(12, 5))\n",
    "\n",
    "# Calls vs Balance\n",
    "plt.subplot(1, 2, 1)\n",
    "plt.scatter(df_filtered['calls_6_months'], df_filtered['balance'], alpha=0.6)\n",
    "plt.title('Calls vs Balance')\n",
    "plt.xlabel('Calls in 6 Months')\n",
    "plt.ylabel('Balance')\n",
    "\n",
    "# Logons vs Balance\n",
    "plt.subplot(1, 2, 2)\n",
    "plt.scatter(df_filtered['logons_6_months'], df_filtered['balance'], alpha=0.6)\n",
    "plt.title('Logons vs Balance')\n",
    "plt.xlabel('Logons in 6 Months')\n",
    "plt.ylabel('Balance')\n",
    "\n",
    "plt.tight_layout()\n",
    "plt.show()"
   ]
  },
  {
   "cell_type": "code",
   "execution_count": 40,
   "id": "b4fdd45a-63c5-40f4-9adf-52ebba220d42",
   "metadata": {},
   "outputs": [
    {
     "data": {
      "image/png": "[encoded data removed]",
      "text/plain": [
       "<Figure size 800x600 with 1 Axes>"
      ]
     },
     "metadata": {},
     "output_type": "display_data"
    }
   ],
   "source": [
    "#A box plot to help visualize the differences in balances between users with more than 6 months of tenure and those with 6 months or less.\n",
    "plt.figure(figsize=(8, 6))\n",
    "sns.boxplot(data=[df_filtered['balance'], df_full[df_full['client_tenure_years'] <= 6]['balance']],\n",
    "            palette='Set2')\n",
    "plt.xticks([0, 1], ['> 6 Months Tenure', '<= 6 Months Tenure'])\n",
    "plt.title('Comparison of Balances')\n",
    "plt.ylabel('Balance')\n",
    "plt.show()"
   ]
  },
  {
   "cell_type": "markdown",
   "id": "0760ab80-a69b-4fd9-b49e-5a4accad341f",
   "metadata": {},
   "source": [
    "1.  The attached analysis focuses on the financial behavior of users based on their account balances, specifically targeting users with a tenure greater than six months. It incorporates statistical testing, correlation analysis, and visualizations to draw insights from the data.\n",
    "\n",
    "- T-Test Results\n",
    "- T-Statistic and P-Value:\n",
    "  \n",
    "- T-Statistic: A value of 576.2604886284864 suggests a very strong difference between the two groups being compared (users with more than 6 months of tenure vs. those with 6 months or less).\n",
    "\n",
    "- P-Value: The reported P-value of 0.0 indicates that the difference observed is statistically significant. In hypothesis testing, a P-value below a significance level (commonly 0.05) suggests that the null hypothesis can be rejected. In this case, it implies that there is a significant difference in the average balances of users based on their tenure.\n",
    "\n",
    "- Interpretation of Results:\n",
    "The analysis concludes that users with more than 6 months of tenure have a significantly different account balance compared to those with shorter tenure. The extremely high T-statistic and a P-value of 0.0 suggest that this difference is not due to random chance, indicating a strong relationship between client tenure and balance.\n"
   ]
  },
  {
   "cell_type": "markdown",
   "id": "265608c5-1490-4d45-9755-cc9bd8e7041d",
   "metadata": {},
   "source": [
    "2.  Distribution of Balances\n",
    "A histogram is used to visualize the distribution of balances for users with more than 6 months of tenure. The histogram provides insights into:\n",
    "\n",
    "- Skewness: If the data is skewed to the left or right, it can indicate the presence of outliers or the general distribution pattern of balances.\n",
    "Average Balance: A vertical line indicating the average balance helps viewers quickly identify where the average lies within the distribution.\n",
    "Correlation Analysis\n",
    "Scatter Plots:\n",
    "\n",
    "- Calls vs. Balance: A scatter plot may depict the relationship between the number of calls made by users in the last six months and their account balance. This can help assess whether increased engagement (measured by calls) correlates with higher balances.\n",
    "Logons vs. Balance: Similarly, a scatter plot for logons shows if there's a correlation between the frequency of logons and account balances.\n",
    "Insights from Correlation:\n",
    "\n",
    "- Positive or negative correlations can be determined visually. If the points trend upward, it indicates a positive correlation; if downward, a negative correlation. The strength of the correlation can also be inferred based on how tightly the points cluster around a line.\n",
    "\n",
    "3. Comparison of Balances\n",
    "A box plot compares the balances of users with different tenures. This visualization allows for:\n",
    "\n",
    "- Identifying Outliers: Box plots highlight outliers that might skew the average balance.\n",
    "\n",
    "- Comparing Medians: The median line within the box indicates the central tendency, which can be compared across groups.\n",
    "\n",
    "- Spread of Data: The interquartile range (IQR) shows the spread of the middle 50% of the data, providing insights into balance variability among users.\n",
    "\n",
    "# Conclusion\n",
    "\n",
    "The analysis effectively employs statistical methods and visualizations to assess the financial behavior of users based on their tenure. The significant difference in balances, highlighted by the T-test, combined with correlation visuals and distribution insights, provides a comprehensive view of how user engagement metrics (calls and logons) relate to account balances. This information can guide strategic decisions for customer engagement and retention efforts.\n",
    "\n"
   ]
  },
  {
   "cell_type": "code",
   "execution_count": null,
   "id": "1e0a0a29-3d73-443e-900a-54708536131d",
   "metadata": {},
   "outputs": [],
   "source": []
  }
 ],
 "metadata": {
  "kernelspec": {
   "display_name": "ironhack",
   "language": "python",
   "name": "ironhack"
  },
  "language_info": {
   "codemirror_mode": {
    "name": "ipython",
    "version": 3
   },
   "file_extension": ".py",
   "mimetype": "text/x-python",
   "name": "python",
   "nbconvert_exporter": "python",
   "pygments_lexer": "ipython3",
   "version": "3.13.7"
  }
 },
 "nbformat": 4,
 "nbformat_minor": 5
}
